{
 "cells": [
  {
   "cell_type": "code",
   "execution_count": 2,
   "id": "retired-showcase",
   "metadata": {},
   "outputs": [],
   "source": [
    "import pandas as pd\n",
    "import numpy as np\n",
    "import seaborn as sns\n",
    "import matplotlib.pyplot as plt\n",
    "import seaborn as sns\n",
    "from imblearn.under_sampling import NearMiss\n",
    "from imblearn.over_sampling import RandomOverSampler\n",
    "from imblearn.combine import SMOTETomek\n",
    "from sklearn.preprocessing import MinMaxScaler\n",
    "from sklearn.model_selection import train_test_split\n",
    "from sklearn.utils import shuffle\n",
    "from sklearn.metrics import confusion_matrix, classification_report, accuracy_score\n",
    "from tensorflow.keras.utils import normalize\n",
    "from tensorflow.keras.models import Sequential\n",
    "from tensorflow.keras.layers import Dense\n",
    "from tensorflow.keras.optimizers import Adam\n",
    "import tensorflow as tf\n",
    "\n",
    "%matplotlib inline"
   ]
  },
  {
   "cell_type": "code",
   "execution_count": 3,
   "id": "entire-freeware",
   "metadata": {},
   "outputs": [],
   "source": [
    "# config = tf.ConfigProto()\n",
    "# config.gpu_options.allow_growth = True"
   ]
  },
  {
   "cell_type": "code",
   "execution_count": 4,
   "id": "tutorial-democrat",
   "metadata": {},
   "outputs": [
    {
     "data": {
      "text/html": [
       "<div>\n",
       "<style scoped>\n",
       "    .dataframe tbody tr th:only-of-type {\n",
       "        vertical-align: middle;\n",
       "    }\n",
       "\n",
       "    .dataframe tbody tr th {\n",
       "        vertical-align: top;\n",
       "    }\n",
       "\n",
       "    .dataframe thead th {\n",
       "        text-align: right;\n",
       "    }\n",
       "</style>\n",
       "<table border=\"1\" class=\"dataframe\">\n",
       "  <thead>\n",
       "    <tr style=\"text-align: right;\">\n",
       "      <th></th>\n",
       "      <th>Date</th>\n",
       "      <th>Location</th>\n",
       "      <th>MinTemp</th>\n",
       "      <th>MaxTemp</th>\n",
       "      <th>Rainfall</th>\n",
       "      <th>Evaporation</th>\n",
       "      <th>Sunshine</th>\n",
       "      <th>WindGustDir</th>\n",
       "      <th>WindGustSpeed</th>\n",
       "      <th>WindDir9am</th>\n",
       "      <th>...</th>\n",
       "      <th>Humidity9am</th>\n",
       "      <th>Humidity3pm</th>\n",
       "      <th>Pressure9am</th>\n",
       "      <th>Pressure3pm</th>\n",
       "      <th>Cloud9am</th>\n",
       "      <th>Cloud3pm</th>\n",
       "      <th>Temp9am</th>\n",
       "      <th>Temp3pm</th>\n",
       "      <th>RainToday</th>\n",
       "      <th>RainTomorrow</th>\n",
       "    </tr>\n",
       "  </thead>\n",
       "  <tbody>\n",
       "    <tr>\n",
       "      <th>0</th>\n",
       "      <td>2008-12-01</td>\n",
       "      <td>Albury</td>\n",
       "      <td>13.4</td>\n",
       "      <td>22.9</td>\n",
       "      <td>0.6</td>\n",
       "      <td>NaN</td>\n",
       "      <td>NaN</td>\n",
       "      <td>W</td>\n",
       "      <td>44.0</td>\n",
       "      <td>W</td>\n",
       "      <td>...</td>\n",
       "      <td>71.0</td>\n",
       "      <td>22.0</td>\n",
       "      <td>1007.7</td>\n",
       "      <td>1007.1</td>\n",
       "      <td>8.0</td>\n",
       "      <td>NaN</td>\n",
       "      <td>16.9</td>\n",
       "      <td>21.8</td>\n",
       "      <td>No</td>\n",
       "      <td>No</td>\n",
       "    </tr>\n",
       "    <tr>\n",
       "      <th>1</th>\n",
       "      <td>2008-12-02</td>\n",
       "      <td>Albury</td>\n",
       "      <td>7.4</td>\n",
       "      <td>25.1</td>\n",
       "      <td>0.0</td>\n",
       "      <td>NaN</td>\n",
       "      <td>NaN</td>\n",
       "      <td>WNW</td>\n",
       "      <td>44.0</td>\n",
       "      <td>NNW</td>\n",
       "      <td>...</td>\n",
       "      <td>44.0</td>\n",
       "      <td>25.0</td>\n",
       "      <td>1010.6</td>\n",
       "      <td>1007.8</td>\n",
       "      <td>NaN</td>\n",
       "      <td>NaN</td>\n",
       "      <td>17.2</td>\n",
       "      <td>24.3</td>\n",
       "      <td>No</td>\n",
       "      <td>No</td>\n",
       "    </tr>\n",
       "    <tr>\n",
       "      <th>2</th>\n",
       "      <td>2008-12-03</td>\n",
       "      <td>Albury</td>\n",
       "      <td>12.9</td>\n",
       "      <td>25.7</td>\n",
       "      <td>0.0</td>\n",
       "      <td>NaN</td>\n",
       "      <td>NaN</td>\n",
       "      <td>WSW</td>\n",
       "      <td>46.0</td>\n",
       "      <td>W</td>\n",
       "      <td>...</td>\n",
       "      <td>38.0</td>\n",
       "      <td>30.0</td>\n",
       "      <td>1007.6</td>\n",
       "      <td>1008.7</td>\n",
       "      <td>NaN</td>\n",
       "      <td>2.0</td>\n",
       "      <td>21.0</td>\n",
       "      <td>23.2</td>\n",
       "      <td>No</td>\n",
       "      <td>No</td>\n",
       "    </tr>\n",
       "    <tr>\n",
       "      <th>3</th>\n",
       "      <td>2008-12-04</td>\n",
       "      <td>Albury</td>\n",
       "      <td>9.2</td>\n",
       "      <td>28.0</td>\n",
       "      <td>0.0</td>\n",
       "      <td>NaN</td>\n",
       "      <td>NaN</td>\n",
       "      <td>NE</td>\n",
       "      <td>24.0</td>\n",
       "      <td>SE</td>\n",
       "      <td>...</td>\n",
       "      <td>45.0</td>\n",
       "      <td>16.0</td>\n",
       "      <td>1017.6</td>\n",
       "      <td>1012.8</td>\n",
       "      <td>NaN</td>\n",
       "      <td>NaN</td>\n",
       "      <td>18.1</td>\n",
       "      <td>26.5</td>\n",
       "      <td>No</td>\n",
       "      <td>No</td>\n",
       "    </tr>\n",
       "    <tr>\n",
       "      <th>4</th>\n",
       "      <td>2008-12-05</td>\n",
       "      <td>Albury</td>\n",
       "      <td>17.5</td>\n",
       "      <td>32.3</td>\n",
       "      <td>1.0</td>\n",
       "      <td>NaN</td>\n",
       "      <td>NaN</td>\n",
       "      <td>W</td>\n",
       "      <td>41.0</td>\n",
       "      <td>ENE</td>\n",
       "      <td>...</td>\n",
       "      <td>82.0</td>\n",
       "      <td>33.0</td>\n",
       "      <td>1010.8</td>\n",
       "      <td>1006.0</td>\n",
       "      <td>7.0</td>\n",
       "      <td>8.0</td>\n",
       "      <td>17.8</td>\n",
       "      <td>29.7</td>\n",
       "      <td>No</td>\n",
       "      <td>No</td>\n",
       "    </tr>\n",
       "  </tbody>\n",
       "</table>\n",
       "<p>5 rows × 23 columns</p>\n",
       "</div>"
      ],
      "text/plain": [
       "         Date Location  MinTemp  MaxTemp  Rainfall  Evaporation  Sunshine  \\\n",
       "0  2008-12-01   Albury     13.4     22.9       0.6          NaN       NaN   \n",
       "1  2008-12-02   Albury      7.4     25.1       0.0          NaN       NaN   \n",
       "2  2008-12-03   Albury     12.9     25.7       0.0          NaN       NaN   \n",
       "3  2008-12-04   Albury      9.2     28.0       0.0          NaN       NaN   \n",
       "4  2008-12-05   Albury     17.5     32.3       1.0          NaN       NaN   \n",
       "\n",
       "  WindGustDir  WindGustSpeed WindDir9am  ... Humidity9am  Humidity3pm  \\\n",
       "0           W           44.0          W  ...        71.0         22.0   \n",
       "1         WNW           44.0        NNW  ...        44.0         25.0   \n",
       "2         WSW           46.0          W  ...        38.0         30.0   \n",
       "3          NE           24.0         SE  ...        45.0         16.0   \n",
       "4           W           41.0        ENE  ...        82.0         33.0   \n",
       "\n",
       "   Pressure9am  Pressure3pm  Cloud9am  Cloud3pm  Temp9am  Temp3pm  RainToday  \\\n",
       "0       1007.7       1007.1       8.0       NaN     16.9     21.8         No   \n",
       "1       1010.6       1007.8       NaN       NaN     17.2     24.3         No   \n",
       "2       1007.6       1008.7       NaN       2.0     21.0     23.2         No   \n",
       "3       1017.6       1012.8       NaN       NaN     18.1     26.5         No   \n",
       "4       1010.8       1006.0       7.0       8.0     17.8     29.7         No   \n",
       "\n",
       "   RainTomorrow  \n",
       "0            No  \n",
       "1            No  \n",
       "2            No  \n",
       "3            No  \n",
       "4            No  \n",
       "\n",
       "[5 rows x 23 columns]"
      ]
     },
     "execution_count": 4,
     "metadata": {},
     "output_type": "execute_result"
    }
   ],
   "source": [
    "df = pd.read_csv('weatherAUS.csv')\n",
    "df.head()"
   ]
  },
  {
   "cell_type": "code",
   "execution_count": 5,
   "id": "naval-rates",
   "metadata": {},
   "outputs": [
    {
     "data": {
      "text/plain": [
       "23"
      ]
     },
     "execution_count": 5,
     "metadata": {},
     "output_type": "execute_result"
    }
   ],
   "source": [
    "len(df.columns)"
   ]
  },
  {
   "cell_type": "code",
   "execution_count": 6,
   "id": "demanding-humidity",
   "metadata": {},
   "outputs": [
    {
     "data": {
      "text/plain": [
       "(145460, 23)"
      ]
     },
     "execution_count": 6,
     "metadata": {},
     "output_type": "execute_result"
    }
   ],
   "source": [
    "df.values.shape"
   ]
  },
  {
   "cell_type": "code",
   "execution_count": 7,
   "id": "choice-logan",
   "metadata": {},
   "outputs": [],
   "source": [
    "categorical = []\n",
    "numerical = []\n",
    "\n",
    "for feature in df.columns:\n",
    "    if df[feature].dtype == 'object':\n",
    "        categorical.append(feature)\n",
    "    else:\n",
    "        numerical.append(feature)"
   ]
  },
  {
   "cell_type": "code",
   "execution_count": 8,
   "id": "official-cleanup",
   "metadata": {},
   "outputs": [
    {
     "name": "stdout",
     "output_type": "stream",
     "text": [
      "['MinTemp', 'MaxTemp', 'Rainfall', 'Evaporation', 'Sunshine', 'WindGustSpeed', 'WindSpeed9am', 'WindSpeed3pm', 'Humidity9am', 'Humidity3pm', 'Pressure9am', 'Pressure3pm', 'Cloud9am', 'Cloud3pm', 'Temp9am', 'Temp3pm']\n",
      "Ukupan broj numerickih atributa: 16\n"
     ]
    }
   ],
   "source": [
    "# numericki atributi\n",
    "\n",
    "print(numerical)\n",
    "print('Ukupan broj numerickih atributa:', len(numerical))"
   ]
  },
  {
   "cell_type": "code",
   "execution_count": 9,
   "id": "least-scout",
   "metadata": {},
   "outputs": [
    {
     "name": "stdout",
     "output_type": "stream",
     "text": [
      "['Date', 'Location', 'WindGustDir', 'WindDir9am', 'WindDir3pm', 'RainToday', 'RainTomorrow']\n",
      "Ukupan broj kategorickih atributa: 7\n"
     ]
    }
   ],
   "source": [
    "# kategoricki atributi\n",
    "\n",
    "print(categorical)\n",
    "print('Ukupan broj kategorickih atributa:', len(categorical))"
   ]
  },
  {
   "cell_type": "code",
   "execution_count": 10,
   "id": "confident-session",
   "metadata": {},
   "outputs": [
    {
     "data": {
      "text/plain": [
       "<AxesSubplot:>"
      ]
     },
     "execution_count": 10,
     "metadata": {},
     "output_type": "execute_result"
    },
    {
     "data": {
      "image/png": "[encoded data removed]",
      "text/plain": [
       "<Figure size 800x600 with 1 Axes>"
      ]
     },
     "metadata": {
      "needs_background": "light"
     },
     "output_type": "display_data"
    }
   ],
   "source": [
    "plt.figure(num=None, figsize=(8, 6), dpi=100)\n",
    "sns.heatmap(df.isna(), yticklabels=False, cbar=False, cmap='viridis')"
   ]
  },
  {
   "cell_type": "code",
   "execution_count": 11,
   "id": "direct-college",
   "metadata": {},
   "outputs": [
    {
     "data": {
      "text/plain": [
       "Date             0.000000\n",
       "Location         0.000000\n",
       "MinTemp          0.010209\n",
       "MaxTemp          0.008669\n",
       "Rainfall         0.022419\n",
       "Evaporation      0.431665\n",
       "Sunshine         0.480098\n",
       "WindGustDir      0.070989\n",
       "WindGustSpeed    0.070555\n",
       "WindDir9am       0.072639\n",
       "WindDir3pm       0.029066\n",
       "WindSpeed9am     0.012148\n",
       "WindSpeed3pm     0.021050\n",
       "Humidity9am      0.018246\n",
       "Humidity3pm      0.030984\n",
       "Pressure9am      0.103568\n",
       "Pressure3pm      0.103314\n",
       "Cloud9am         0.384216\n",
       "Cloud3pm         0.408071\n",
       "Temp9am          0.012148\n",
       "Temp3pm          0.024811\n",
       "RainToday        0.022419\n",
       "RainTomorrow     0.022460\n",
       "dtype: float64"
      ]
     },
     "execution_count": 11,
     "metadata": {},
     "output_type": "execute_result"
    }
   ],
   "source": [
    "df.isna().mean()"
   ]
  },
  {
   "cell_type": "code",
   "execution_count": 12,
   "id": "adopted-advertiser",
   "metadata": {},
   "outputs": [
    {
     "data": {
      "text/plain": [
       "3436"
      ]
     },
     "execution_count": 12,
     "metadata": {},
     "output_type": "execute_result"
    }
   ],
   "source": [
    "date = df['Date'].value_counts().sort_values(ascending=False)\n",
    "len(date)"
   ]
  },
  {
   "cell_type": "code",
   "execution_count": 13,
   "id": "intermediate-exchange",
   "metadata": {},
   "outputs": [],
   "source": [
    "#sns.countplot(x='Date', data=df)"
   ]
  },
  {
   "cell_type": "code",
   "execution_count": 14,
   "id": "quiet-leather",
   "metadata": {},
   "outputs": [
    {
     "data": {
      "text/plain": [
       "Canberra            3436\n",
       "Sydney              3344\n",
       "Hobart              3193\n",
       "Brisbane            3193\n",
       "Melbourne           3193\n",
       "Darwin              3193\n",
       "Perth               3193\n",
       "Adelaide            3193\n",
       "Cairns              3040\n",
       "Launceston          3040\n",
       "MountGambier        3040\n",
       "Albury              3040\n",
       "GoldCoast           3040\n",
       "AliceSprings        3040\n",
       "Townsville          3040\n",
       "MountGinini         3040\n",
       "Bendigo             3040\n",
       "Albany              3040\n",
       "Ballarat            3040\n",
       "Wollongong          3040\n",
       "Newcastle           3039\n",
       "Penrith             3039\n",
       "Tuggeranong         3039\n",
       "PerthAirport        3009\n",
       "CoffsHarbour        3009\n",
       "Dartmoor            3009\n",
       "Woomera             3009\n",
       "Portland            3009\n",
       "Moree               3009\n",
       "Witchcliffe         3009\n",
       "Cobar               3009\n",
       "Sale                3009\n",
       "SydneyAirport       3009\n",
       "Watsonia            3009\n",
       "Mildura             3009\n",
       "PearceRAAF          3009\n",
       "BadgerysCreek       3009\n",
       "WaggaWagga          3009\n",
       "Richmond            3009\n",
       "Williamtown         3009\n",
       "MelbourneAirport    3009\n",
       "NorfolkIsland       3009\n",
       "Nuriootpa           3009\n",
       "Walpole             3006\n",
       "NorahHead           3004\n",
       "SalmonGums          3001\n",
       "Nhil                1578\n",
       "Katherine           1578\n",
       "Uluru               1578\n",
       "Name: Location, dtype: int64"
      ]
     },
     "execution_count": 14,
     "metadata": {},
     "output_type": "execute_result"
    }
   ],
   "source": [
    "location = df['Location'].value_counts()\n",
    "location"
   ]
  },
  {
   "cell_type": "code",
   "execution_count": 15,
   "id": "molecular-diamond",
   "metadata": {},
   "outputs": [
    {
     "data": {
      "text/plain": [
       "<AxesSubplot:xlabel='Location', ylabel='count'>"
      ]
     },
     "execution_count": 15,
     "metadata": {},
     "output_type": "execute_result"
    },
    {
     "data": {
      "image/png": "[encoded data removed]",
      "text/plain": [
       "<Figure size 2400x1800 with 1 Axes>"
      ]
     },
     "metadata": {
      "needs_background": "light"
     },
     "output_type": "display_data"
    }
   ],
   "source": [
    "plt.figure(num=None, figsize=(8, 6), dpi=300)\n",
    "sns.countplot(x='Location', data=df)"
   ]
  },
  {
   "cell_type": "code",
   "execution_count": 16,
   "id": "seven-label",
   "metadata": {},
   "outputs": [
    {
     "data": {
      "text/plain": [
       "W      9915\n",
       "SE     9418\n",
       "N      9313\n",
       "SSE    9216\n",
       "E      9181\n",
       "S      9168\n",
       "WSW    9069\n",
       "SW     8967\n",
       "SSW    8736\n",
       "WNW    8252\n",
       "NW     8122\n",
       "ENE    8104\n",
       "ESE    7372\n",
       "NE     7133\n",
       "NNW    6620\n",
       "NNE    6548\n",
       "Name: WindGustDir, dtype: int64"
      ]
     },
     "execution_count": 16,
     "metadata": {},
     "output_type": "execute_result"
    }
   ],
   "source": [
    "WindGustDir = df['WindGustDir'].value_counts()\n",
    "WindGustDir"
   ]
  },
  {
   "cell_type": "code",
   "execution_count": 17,
   "id": "printable-wiring",
   "metadata": {},
   "outputs": [
    {
     "data": {
      "text/plain": [
       "<AxesSubplot:xlabel='WindGustDir', ylabel='count'>"
      ]
     },
     "execution_count": 17,
     "metadata": {},
     "output_type": "execute_result"
    },
    {
     "data": {
      "image/png": "[encoded data removed]",
      "text/plain": [
       "<Figure size 800x600 with 1 Axes>"
      ]
     },
     "metadata": {
      "needs_background": "light"
     },
     "output_type": "display_data"
    }
   ],
   "source": [
    "plt.figure(num=None, figsize=(8, 6), dpi=100)\n",
    "sns.countplot(x='WindGustDir', data=df)"
   ]
  },
  {
   "cell_type": "code",
   "execution_count": 18,
   "id": "disabled-behalf",
   "metadata": {},
   "outputs": [
    {
     "data": {
      "text/plain": [
       "N      11758\n",
       "SE      9287\n",
       "E       9176\n",
       "SSE     9112\n",
       "NW      8749\n",
       "S       8659\n",
       "W       8459\n",
       "SW      8423\n",
       "NNE     8129\n",
       "NNW     7980\n",
       "ENE     7836\n",
       "NE      7671\n",
       "ESE     7630\n",
       "SSW     7587\n",
       "WNW     7414\n",
       "WSW     7024\n",
       "Name: WindDir9am, dtype: int64"
      ]
     },
     "execution_count": 18,
     "metadata": {},
     "output_type": "execute_result"
    }
   ],
   "source": [
    "WindDir9am = df['WindDir9am'].value_counts()\n",
    "WindDir9am"
   ]
  },
  {
   "cell_type": "code",
   "execution_count": 19,
   "id": "dependent-usage",
   "metadata": {},
   "outputs": [
    {
     "data": {
      "text/plain": [
       "<AxesSubplot:xlabel='WindDir9am', ylabel='count'>"
      ]
     },
     "execution_count": 19,
     "metadata": {},
     "output_type": "execute_result"
    },
    {
     "data": {
      "image/png": "[encoded data removed]",
      "text/plain": [
       "<Figure size 800x600 with 1 Axes>"
      ]
     },
     "metadata": {
      "needs_background": "light"
     },
     "output_type": "display_data"
    }
   ],
   "source": [
    "plt.figure(num=None, figsize=(8, 6), dpi=100)\n",
    "sns.countplot(x='WindDir9am', data=df)"
   ]
  },
  {
   "cell_type": "code",
   "execution_count": 20,
   "id": "exposed-proposal",
   "metadata": {},
   "outputs": [
    {
     "data": {
      "text/plain": [
       "SE     10838\n",
       "W      10110\n",
       "S       9926\n",
       "WSW     9518\n",
       "SSE     9399\n",
       "SW      9354\n",
       "N       8890\n",
       "WNW     8874\n",
       "NW      8610\n",
       "ESE     8505\n",
       "E       8472\n",
       "NE      8263\n",
       "SSW     8156\n",
       "NNW     7870\n",
       "ENE     7857\n",
       "NNE     6590\n",
       "Name: WindDir3pm, dtype: int64"
      ]
     },
     "execution_count": 20,
     "metadata": {},
     "output_type": "execute_result"
    }
   ],
   "source": [
    "WindDir3pm = df['WindDir3pm'].value_counts()\n",
    "WindDir3pm"
   ]
  },
  {
   "cell_type": "code",
   "execution_count": 21,
   "id": "copyrighted-smooth",
   "metadata": {},
   "outputs": [
    {
     "data": {
      "text/plain": [
       "<AxesSubplot:xlabel='WindDir3pm', ylabel='count'>"
      ]
     },
     "execution_count": 21,
     "metadata": {},
     "output_type": "execute_result"
    },
    {
     "data": {
      "image/png": "[encoded data removed]",
      "text/plain": [
       "<Figure size 800x600 with 1 Axes>"
      ]
     },
     "metadata": {
      "needs_background": "light"
     },
     "output_type": "display_data"
    }
   ],
   "source": [
    "plt.figure(num=None, figsize=(8, 6), dpi=100)\n",
    "sns.countplot(x='WindDir3pm', data=df)"
   ]
  },
  {
   "cell_type": "code",
   "execution_count": 22,
   "id": "directed-philosophy",
   "metadata": {},
   "outputs": [
    {
     "data": {
      "text/plain": [
       "No     110319\n",
       "Yes     31880\n",
       "Name: RainToday, dtype: int64"
      ]
     },
     "execution_count": 22,
     "metadata": {},
     "output_type": "execute_result"
    }
   ],
   "source": [
    "RainToday = df['RainToday'].value_counts()\n",
    "RainToday"
   ]
  },
  {
   "cell_type": "code",
   "execution_count": 23,
   "id": "exciting-demographic",
   "metadata": {},
   "outputs": [
    {
     "data": {
      "text/plain": [
       "<AxesSubplot:xlabel='RainToday', ylabel='count'>"
      ]
     },
     "execution_count": 23,
     "metadata": {},
     "output_type": "execute_result"
    },
    {
     "data": {
      "image/png": "[encoded data removed]",
      "text/plain": [
       "<Figure size 800x600 with 1 Axes>"
      ]
     },
     "metadata": {
      "needs_background": "light"
     },
     "output_type": "display_data"
    }
   ],
   "source": [
    "plt.figure(num=None, figsize=(8, 6), dpi=100)\n",
    "sns.countplot(x='RainToday', data=df)"
   ]
  },
  {
   "cell_type": "code",
   "execution_count": 24,
   "id": "personalized-sperm",
   "metadata": {},
   "outputs": [],
   "source": [
    "# zamena NaN vrednosti zeljenim metodom (mean, mode, median ili random sample imputation-om)\n",
    "\n",
    "def impute_value(df, variable, method='random sample'):\n",
    "\n",
    "    if method == 'mean':\n",
    "        df[variable].fillna(df[variable].mean(), inplace=True)\n",
    "    elif method == 'mode':\n",
    "        df[variable].fillna(df[variable].mode()[0], inplace=True)\n",
    "    elif method == 'median':\n",
    "        df[variable + '_median'] = df[variable].fillna(df[variable].median())\n",
    "    else:\n",
    "        df[variable + '_random_sample'] = df[variable]\n",
    "        random_sample = df[variable].dropna().sample(df[variable].isna().sum(), random_state=0)\n",
    "        random_sample.index = df.loc[df[variable].isna()].index\n",
    "        df.loc[df[variable].isna(), variable] = random_sample"
   ]
  },
  {
   "cell_type": "markdown",
   "id": "declared-signal",
   "metadata": {},
   "source": [
    "### Zamena NaN vrednosti kategoričkih atributa vrednošću koja se javlja najveći broj puta u odgovarajućoj koloni"
   ]
  },
  {
   "cell_type": "code",
   "execution_count": 25,
   "id": "viral-friend",
   "metadata": {},
   "outputs": [],
   "source": [
    "for feature in categorical:\n",
    "    impute_value(df, feature, 'mode')"
   ]
  },
  {
   "cell_type": "code",
   "execution_count": 26,
   "id": "strange-message",
   "metadata": {},
   "outputs": [
    {
     "data": {
      "text/plain": [
       "<AxesSubplot:>"
      ]
     },
     "execution_count": 26,
     "metadata": {},
     "output_type": "execute_result"
    },
    {
     "data": {
      "image/png": "[encoded data removed]",
      "text/plain": [
       "<Figure size 720x540 with 1 Axes>"
      ]
     },
     "metadata": {
      "needs_background": "light"
     },
     "output_type": "display_data"
    }
   ],
   "source": [
    "# Nakon zamene NaN vrednosti modom, ne sme biti NaN vrednosti ni u jednoj od kategorickih kolona\n",
    "# ... provera iscrtavanjem heatmape\n",
    "\n",
    "plt.figure(num=None, figsize=(8, 6), dpi=90)\n",
    "sns.heatmap(df[categorical].isna(), yticklabels=False, cbar=False, cmap='viridis')"
   ]
  },
  {
   "cell_type": "code",
   "execution_count": 27,
   "id": "premium-opposition",
   "metadata": {},
   "outputs": [
    {
     "data": {
      "text/plain": [
       "Date            0.0\n",
       "Location        0.0\n",
       "WindGustDir     0.0\n",
       "WindDir9am      0.0\n",
       "WindDir3pm      0.0\n",
       "RainToday       0.0\n",
       "RainTomorrow    0.0\n",
       "dtype: float64"
      ]
     },
     "execution_count": 27,
     "metadata": {},
     "output_type": "execute_result"
    }
   ],
   "source": [
    "df[categorical].isna().mean()"
   ]
  },
  {
   "cell_type": "markdown",
   "id": "three-disease",
   "metadata": {},
   "source": [
    "### Zamena NaN vrednosti u kategoričkim atributima"
   ]
  },
  {
   "cell_type": "code",
   "execution_count": 28,
   "id": "criminal-salad",
   "metadata": {},
   "outputs": [
    {
     "data": {
      "text/plain": [
       "[]"
      ]
     },
     "execution_count": 28,
     "metadata": {},
     "output_type": "execute_result"
    }
   ],
   "source": [
    "# Funkcija koja na osnovu medjukvartalnog rastojanja odredjuje elemente van granica...\n",
    "# ... (outlier-e) promenljive koja se prosledjuje kao argument (values)\n",
    "\n",
    "def find_irq_outliers(values):\n",
    "    \n",
    "    outliers = []\n",
    "    sorted_values = sorted(values)\n",
    "    min, max = np.percentile(sorted_values, [25, 75])\n",
    "    irq_difference = max - min\n",
    "    upper_border = max + 1.5 * irq_difference\n",
    "    lower_border = min - 1.5 * irq_difference\n",
    "\n",
    "    for value in sorted_values:\n",
    "        if value < lower_border or value > upper_border:\n",
    "            outliers.append(value)\n",
    "    return outliers\n",
    "        \n",
    "outlier_numeric_columns = []\n",
    "for numerical_variable in numerical:\n",
    "    if len(find_irq_outliers(df[numerical_variable])):\n",
    "        outlier_numeric_columns.append(numerical_variable)\n",
    "\n",
    "outlier_numeric_columns"
   ]
  },
  {
   "cell_type": "code",
   "execution_count": 29,
   "id": "upset-sauce",
   "metadata": {},
   "outputs": [],
   "source": [
    "# Za sve promenljive numerickog tipa ispitati pojavljivanje elemenata van granica(outlier-a)\n",
    "# Ukoliko u odgovarajucoj promenljivoj postoje outlier vrednosti...\n",
    "# ... ispitati da li zamena outlier vrednosti median vrednoscu ili random sample imputation principom...\n",
    "# ... unosi manju promenu standardne devijacije. U konacnom, zameniti nedostajuce vrednosti onim vrednostima...\n",
    "# ... koje unose najmanju promenu standardne devijacije\n",
    "# ... Ukoliko promenljiva ne sadrzi outlier-e zameniti nedostajuce vrednosti srednjom vrednoscu\n",
    "\n",
    "for variable in numerical:\n",
    "    if variable in outlier_numeric_columns:\n",
    "        impute_value(df, variable, 'median')\n",
    "        impute_value(df, variable)\n",
    "        standard_deviation_old_values = df[variable].std()\n",
    "        standard_deviation_median_values = df[variable + '_median'].std()\n",
    "        standard_deviation_random_sample = df[variable + '_random_sample'].std()\n",
    "        if abs(standard_deviation_median_values - standard_deviation_old_values) < abs(standard_deviation_random_sample - standard_deviation_old_values):\n",
    "            df[variable] = df[variable + '_median']\n",
    "        else:\n",
    "            df[variable] = df[variable + '_random_sample']\n",
    "        df.drop(columns=[variable + '_random_sample', variable + '_median'], inplace=True)\n",
    "\n",
    "    else:\n",
    "        impute_value(df, variable, 'mean')"
   ]
  },
  {
   "cell_type": "markdown",
   "id": "martial-element",
   "metadata": {},
   "source": [
    "### Nakon zamene NaN vrednosti u numeričkim kolonama, ne sme ostati ni jedna NaN vrednost u istim..."
   ]
  },
  {
   "cell_type": "code",
   "execution_count": 30,
   "id": "powerful-desire",
   "metadata": {},
   "outputs": [
    {
     "data": {
      "text/plain": [
       "<AxesSubplot:>"
      ]
     },
     "execution_count": 30,
     "metadata": {},
     "output_type": "execute_result"
    },
    {
     "data": {
      "image/png": "[encoded data removed]",
      "text/plain": [
       "<Figure size 720x540 with 1 Axes>"
      ]
     },
     "metadata": {
      "needs_background": "light"
     },
     "output_type": "display_data"
    }
   ],
   "source": [
    "plt.figure(num=None, figsize=(8, 6), dpi=90)\n",
    "sns.heatmap(df[numerical].isna(), yticklabels=False, cbar=False, cmap='viridis')"
   ]
  },
  {
   "cell_type": "code",
   "execution_count": 31,
   "id": "considerable-squad",
   "metadata": {},
   "outputs": [
    {
     "data": {
      "text/plain": [
       "MinTemp          0.0\n",
       "MaxTemp          0.0\n",
       "Rainfall         0.0\n",
       "Evaporation      0.0\n",
       "Sunshine         0.0\n",
       "WindGustSpeed    0.0\n",
       "WindSpeed9am     0.0\n",
       "WindSpeed3pm     0.0\n",
       "Humidity9am      0.0\n",
       "Humidity3pm      0.0\n",
       "Pressure9am      0.0\n",
       "Pressure3pm      0.0\n",
       "Cloud9am         0.0\n",
       "Cloud3pm         0.0\n",
       "Temp9am          0.0\n",
       "Temp3pm          0.0\n",
       "dtype: float64"
      ]
     },
     "execution_count": 31,
     "metadata": {},
     "output_type": "execute_result"
    }
   ],
   "source": [
    "df[numerical].isna().mean()"
   ]
  },
  {
   "cell_type": "code",
   "execution_count": 32,
   "id": "julian-reservoir",
   "metadata": {},
   "outputs": [
    {
     "data": {
      "text/plain": [
       "Date             0.0\n",
       "Location         0.0\n",
       "MinTemp          0.0\n",
       "MaxTemp          0.0\n",
       "Rainfall         0.0\n",
       "Evaporation      0.0\n",
       "Sunshine         0.0\n",
       "WindGustDir      0.0\n",
       "WindGustSpeed    0.0\n",
       "WindDir9am       0.0\n",
       "WindDir3pm       0.0\n",
       "WindSpeed9am     0.0\n",
       "WindSpeed3pm     0.0\n",
       "Humidity9am      0.0\n",
       "Humidity3pm      0.0\n",
       "Pressure9am      0.0\n",
       "Pressure3pm      0.0\n",
       "Cloud9am         0.0\n",
       "Cloud3pm         0.0\n",
       "Temp9am          0.0\n",
       "Temp3pm          0.0\n",
       "RainToday        0.0\n",
       "RainTomorrow     0.0\n",
       "dtype: float64"
      ]
     },
     "execution_count": 32,
     "metadata": {},
     "output_type": "execute_result"
    }
   ],
   "source": [
    "df.isna().mean()"
   ]
  },
  {
   "cell_type": "code",
   "execution_count": 33,
   "id": "governing-affect",
   "metadata": {},
   "outputs": [
    {
     "data": {
      "text/plain": [
       "<AxesSubplot:>"
      ]
     },
     "execution_count": 33,
     "metadata": {},
     "output_type": "execute_result"
    },
    {
     "data": {
      "image/png": "[encoded data removed]",
      "text/plain": [
       "<Figure size 720x540 with 1 Axes>"
      ]
     },
     "metadata": {
      "needs_background": "light"
     },
     "output_type": "display_data"
    }
   ],
   "source": [
    "plt.figure(num=None, figsize=(8, 6), dpi=90)\n",
    "sns.heatmap(df.isna(), yticklabels=False, cbar=False, cmap='viridis')"
   ]
  },
  {
   "cell_type": "markdown",
   "id": "sticky-edition",
   "metadata": {},
   "source": [
    "### Da li je skup loše balansiran?"
   ]
  },
  {
   "cell_type": "code",
   "execution_count": 34,
   "id": "banner-bruce",
   "metadata": {},
   "outputs": [
    {
     "data": {
      "text/plain": [
       "<AxesSubplot:xlabel='RainTomorrow', ylabel='count'>"
      ]
     },
     "execution_count": 34,
     "metadata": {},
     "output_type": "execute_result"
    },
    {
     "data": {
      "image/png": "[encoded data removed]",
      "text/plain": [
       "<Figure size 800x600 with 1 Axes>"
      ]
     },
     "metadata": {
      "needs_background": "light"
     },
     "output_type": "display_data"
    }
   ],
   "source": [
    "plt.figure(num=None, figsize=(8, 6), dpi=100)\n",
    "sns.countplot(x='RainTomorrow', data=df)"
   ]
  },
  {
   "cell_type": "code",
   "execution_count": 35,
   "id": "tropical-proof",
   "metadata": {},
   "outputs": [
    {
     "name": "stdout",
     "output_type": "stream",
     "text": [
      "Padala je kisa: 31877\n",
      "U procentima:  21.914615701911178 %\n"
     ]
    }
   ],
   "source": [
    "print('Padala je kisa:', len(df.loc[df['RainTomorrow'] == 'Yes']))\n",
    "print(f'U procentima: ', (len(df.loc[df['RainTomorrow'] == 'Yes']) / len(df)) * 100, '%')"
   ]
  },
  {
   "cell_type": "code",
   "execution_count": 36,
   "id": "recreational-simulation",
   "metadata": {},
   "outputs": [
    {
     "name": "stdout",
     "output_type": "stream",
     "text": [
      "Nije padala kisa: 113583\n",
      "U procentima:  78.08538429808883 %\n"
     ]
    }
   ],
   "source": [
    "print('Nije padala kisa:', len(df.loc[df['RainTomorrow'] == 'No']))\n",
    "print('U procentima: ', (len(df.loc[df['RainTomorrow'] == 'No']) / len(df)) * 100, '%')"
   ]
  },
  {
   "cell_type": "code",
   "execution_count": 37,
   "id": "tracked-chrome",
   "metadata": {},
   "outputs": [],
   "source": [
    "# Mapiranje No vrednosti odredisnog atributa u 0 (nije padala kisa) i Yes vrednosti u 1 (padala je kisa)\n",
    "\n",
    "df['RainTomorrow'].replace({'No': 0, 'Yes': 1}, inplace=True)"
   ]
  },
  {
   "cell_type": "markdown",
   "id": "laden-india",
   "metadata": {},
   "source": [
    "### Skaliranje vrednosti"
   ]
  },
  {
   "cell_type": "code",
   "execution_count": 38,
   "id": "ceramic-trunk",
   "metadata": {},
   "outputs": [
    {
     "data": {
      "text/html": [
       "<div>\n",
       "<style scoped>\n",
       "    .dataframe tbody tr th:only-of-type {\n",
       "        vertical-align: middle;\n",
       "    }\n",
       "\n",
       "    .dataframe tbody tr th {\n",
       "        vertical-align: top;\n",
       "    }\n",
       "\n",
       "    .dataframe thead th {\n",
       "        text-align: right;\n",
       "    }\n",
       "</style>\n",
       "<table border=\"1\" class=\"dataframe\">\n",
       "  <thead>\n",
       "    <tr style=\"text-align: right;\">\n",
       "      <th></th>\n",
       "      <th>MinTemp</th>\n",
       "      <th>MaxTemp</th>\n",
       "      <th>Rainfall</th>\n",
       "      <th>Evaporation</th>\n",
       "      <th>Sunshine</th>\n",
       "      <th>WindGustSpeed</th>\n",
       "      <th>WindSpeed9am</th>\n",
       "      <th>WindSpeed3pm</th>\n",
       "      <th>Humidity9am</th>\n",
       "      <th>Humidity3pm</th>\n",
       "      <th>Pressure9am</th>\n",
       "      <th>Pressure3pm</th>\n",
       "      <th>Cloud9am</th>\n",
       "      <th>Cloud3pm</th>\n",
       "      <th>Temp9am</th>\n",
       "      <th>Temp3pm</th>\n",
       "    </tr>\n",
       "  </thead>\n",
       "  <tbody>\n",
       "    <tr>\n",
       "      <th>0</th>\n",
       "      <td>13.4</td>\n",
       "      <td>22.9</td>\n",
       "      <td>0.6</td>\n",
       "      <td>5.468232</td>\n",
       "      <td>7.611178</td>\n",
       "      <td>44.0</td>\n",
       "      <td>20.0</td>\n",
       "      <td>24.0</td>\n",
       "      <td>71.0</td>\n",
       "      <td>22.0</td>\n",
       "      <td>1007.7</td>\n",
       "      <td>1007.1</td>\n",
       "      <td>8.000000</td>\n",
       "      <td>4.50993</td>\n",
       "      <td>16.9</td>\n",
       "      <td>21.8</td>\n",
       "    </tr>\n",
       "    <tr>\n",
       "      <th>1</th>\n",
       "      <td>7.4</td>\n",
       "      <td>25.1</td>\n",
       "      <td>0.0</td>\n",
       "      <td>5.468232</td>\n",
       "      <td>7.611178</td>\n",
       "      <td>44.0</td>\n",
       "      <td>4.0</td>\n",
       "      <td>22.0</td>\n",
       "      <td>44.0</td>\n",
       "      <td>25.0</td>\n",
       "      <td>1010.6</td>\n",
       "      <td>1007.8</td>\n",
       "      <td>4.447461</td>\n",
       "      <td>4.50993</td>\n",
       "      <td>17.2</td>\n",
       "      <td>24.3</td>\n",
       "    </tr>\n",
       "    <tr>\n",
       "      <th>2</th>\n",
       "      <td>12.9</td>\n",
       "      <td>25.7</td>\n",
       "      <td>0.0</td>\n",
       "      <td>5.468232</td>\n",
       "      <td>7.611178</td>\n",
       "      <td>46.0</td>\n",
       "      <td>19.0</td>\n",
       "      <td>26.0</td>\n",
       "      <td>38.0</td>\n",
       "      <td>30.0</td>\n",
       "      <td>1007.6</td>\n",
       "      <td>1008.7</td>\n",
       "      <td>4.447461</td>\n",
       "      <td>2.00000</td>\n",
       "      <td>21.0</td>\n",
       "      <td>23.2</td>\n",
       "    </tr>\n",
       "    <tr>\n",
       "      <th>3</th>\n",
       "      <td>9.2</td>\n",
       "      <td>28.0</td>\n",
       "      <td>0.0</td>\n",
       "      <td>5.468232</td>\n",
       "      <td>7.611178</td>\n",
       "      <td>24.0</td>\n",
       "      <td>11.0</td>\n",
       "      <td>9.0</td>\n",
       "      <td>45.0</td>\n",
       "      <td>16.0</td>\n",
       "      <td>1017.6</td>\n",
       "      <td>1012.8</td>\n",
       "      <td>4.447461</td>\n",
       "      <td>4.50993</td>\n",
       "      <td>18.1</td>\n",
       "      <td>26.5</td>\n",
       "    </tr>\n",
       "    <tr>\n",
       "      <th>4</th>\n",
       "      <td>17.5</td>\n",
       "      <td>32.3</td>\n",
       "      <td>1.0</td>\n",
       "      <td>5.468232</td>\n",
       "      <td>7.611178</td>\n",
       "      <td>41.0</td>\n",
       "      <td>7.0</td>\n",
       "      <td>20.0</td>\n",
       "      <td>82.0</td>\n",
       "      <td>33.0</td>\n",
       "      <td>1010.8</td>\n",
       "      <td>1006.0</td>\n",
       "      <td>7.000000</td>\n",
       "      <td>8.00000</td>\n",
       "      <td>17.8</td>\n",
       "      <td>29.7</td>\n",
       "    </tr>\n",
       "  </tbody>\n",
       "</table>\n",
       "</div>"
      ],
      "text/plain": [
       "   MinTemp  MaxTemp  Rainfall  Evaporation  Sunshine  WindGustSpeed  \\\n",
       "0     13.4     22.9       0.6     5.468232  7.611178           44.0   \n",
       "1      7.4     25.1       0.0     5.468232  7.611178           44.0   \n",
       "2     12.9     25.7       0.0     5.468232  7.611178           46.0   \n",
       "3      9.2     28.0       0.0     5.468232  7.611178           24.0   \n",
       "4     17.5     32.3       1.0     5.468232  7.611178           41.0   \n",
       "\n",
       "   WindSpeed9am  WindSpeed3pm  Humidity9am  Humidity3pm  Pressure9am  \\\n",
       "0          20.0          24.0         71.0         22.0       1007.7   \n",
       "1           4.0          22.0         44.0         25.0       1010.6   \n",
       "2          19.0          26.0         38.0         30.0       1007.6   \n",
       "3          11.0           9.0         45.0         16.0       1017.6   \n",
       "4           7.0          20.0         82.0         33.0       1010.8   \n",
       "\n",
       "   Pressure3pm  Cloud9am  Cloud3pm  Temp9am  Temp3pm  \n",
       "0       1007.1  8.000000   4.50993     16.9     21.8  \n",
       "1       1007.8  4.447461   4.50993     17.2     24.3  \n",
       "2       1008.7  4.447461   2.00000     21.0     23.2  \n",
       "3       1012.8  4.447461   4.50993     18.1     26.5  \n",
       "4       1006.0  7.000000   8.00000     17.8     29.7  "
      ]
     },
     "execution_count": 38,
     "metadata": {},
     "output_type": "execute_result"
    }
   ],
   "source": [
    "df[numerical].head()"
   ]
  },
  {
   "cell_type": "code",
   "execution_count": 39,
   "id": "juvenile-accessory",
   "metadata": {},
   "outputs": [],
   "source": [
    "scaler = MinMaxScaler()\n",
    "\n",
    "for feature in numerical:\n",
    "    df[feature] = scaler.fit_transform(df[[feature]])"
   ]
  },
  {
   "cell_type": "code",
   "execution_count": 40,
   "id": "graduate-terrain",
   "metadata": {},
   "outputs": [
    {
     "data": {
      "text/html": [
       "<div>\n",
       "<style scoped>\n",
       "    .dataframe tbody tr th:only-of-type {\n",
       "        vertical-align: middle;\n",
       "    }\n",
       "\n",
       "    .dataframe tbody tr th {\n",
       "        vertical-align: top;\n",
       "    }\n",
       "\n",
       "    .dataframe thead th {\n",
       "        text-align: right;\n",
       "    }\n",
       "</style>\n",
       "<table border=\"1\" class=\"dataframe\">\n",
       "  <thead>\n",
       "    <tr style=\"text-align: right;\">\n",
       "      <th></th>\n",
       "      <th>MinTemp</th>\n",
       "      <th>MaxTemp</th>\n",
       "      <th>Rainfall</th>\n",
       "      <th>Evaporation</th>\n",
       "      <th>Sunshine</th>\n",
       "      <th>WindGustSpeed</th>\n",
       "      <th>WindSpeed9am</th>\n",
       "      <th>WindSpeed3pm</th>\n",
       "      <th>Humidity9am</th>\n",
       "      <th>Humidity3pm</th>\n",
       "      <th>Pressure9am</th>\n",
       "      <th>Pressure3pm</th>\n",
       "      <th>Cloud9am</th>\n",
       "      <th>Cloud3pm</th>\n",
       "      <th>Temp9am</th>\n",
       "      <th>Temp3pm</th>\n",
       "    </tr>\n",
       "  </thead>\n",
       "  <tbody>\n",
       "    <tr>\n",
       "      <th>0</th>\n",
       "      <td>0.516509</td>\n",
       "      <td>0.523629</td>\n",
       "      <td>0.001617</td>\n",
       "      <td>0.037712</td>\n",
       "      <td>0.524909</td>\n",
       "      <td>0.294574</td>\n",
       "      <td>0.153846</td>\n",
       "      <td>0.275862</td>\n",
       "      <td>0.71</td>\n",
       "      <td>0.22</td>\n",
       "      <td>0.449587</td>\n",
       "      <td>0.4800</td>\n",
       "      <td>0.888889</td>\n",
       "      <td>0.501103</td>\n",
       "      <td>0.508439</td>\n",
       "      <td>0.522073</td>\n",
       "    </tr>\n",
       "    <tr>\n",
       "      <th>1</th>\n",
       "      <td>0.375000</td>\n",
       "      <td>0.565217</td>\n",
       "      <td>0.000000</td>\n",
       "      <td>0.037712</td>\n",
       "      <td>0.524909</td>\n",
       "      <td>0.294574</td>\n",
       "      <td>0.030769</td>\n",
       "      <td>0.252874</td>\n",
       "      <td>0.44</td>\n",
       "      <td>0.25</td>\n",
       "      <td>0.497521</td>\n",
       "      <td>0.4912</td>\n",
       "      <td>0.494162</td>\n",
       "      <td>0.501103</td>\n",
       "      <td>0.514768</td>\n",
       "      <td>0.570058</td>\n",
       "    </tr>\n",
       "    <tr>\n",
       "      <th>2</th>\n",
       "      <td>0.504717</td>\n",
       "      <td>0.576560</td>\n",
       "      <td>0.000000</td>\n",
       "      <td>0.037712</td>\n",
       "      <td>0.524909</td>\n",
       "      <td>0.310078</td>\n",
       "      <td>0.146154</td>\n",
       "      <td>0.298851</td>\n",
       "      <td>0.38</td>\n",
       "      <td>0.30</td>\n",
       "      <td>0.447934</td>\n",
       "      <td>0.5056</td>\n",
       "      <td>0.494162</td>\n",
       "      <td>0.222222</td>\n",
       "      <td>0.594937</td>\n",
       "      <td>0.548944</td>\n",
       "    </tr>\n",
       "    <tr>\n",
       "      <th>3</th>\n",
       "      <td>0.417453</td>\n",
       "      <td>0.620038</td>\n",
       "      <td>0.000000</td>\n",
       "      <td>0.037712</td>\n",
       "      <td>0.524909</td>\n",
       "      <td>0.139535</td>\n",
       "      <td>0.084615</td>\n",
       "      <td>0.103448</td>\n",
       "      <td>0.45</td>\n",
       "      <td>0.16</td>\n",
       "      <td>0.613223</td>\n",
       "      <td>0.5712</td>\n",
       "      <td>0.494162</td>\n",
       "      <td>0.501103</td>\n",
       "      <td>0.533755</td>\n",
       "      <td>0.612284</td>\n",
       "    </tr>\n",
       "    <tr>\n",
       "      <th>4</th>\n",
       "      <td>0.613208</td>\n",
       "      <td>0.701323</td>\n",
       "      <td>0.002695</td>\n",
       "      <td>0.037712</td>\n",
       "      <td>0.524909</td>\n",
       "      <td>0.271318</td>\n",
       "      <td>0.053846</td>\n",
       "      <td>0.229885</td>\n",
       "      <td>0.82</td>\n",
       "      <td>0.33</td>\n",
       "      <td>0.500826</td>\n",
       "      <td>0.4624</td>\n",
       "      <td>0.777778</td>\n",
       "      <td>0.888889</td>\n",
       "      <td>0.527426</td>\n",
       "      <td>0.673704</td>\n",
       "    </tr>\n",
       "  </tbody>\n",
       "</table>\n",
       "</div>"
      ],
      "text/plain": [
       "    MinTemp   MaxTemp  Rainfall  Evaporation  Sunshine  WindGustSpeed  \\\n",
       "0  0.516509  0.523629  0.001617     0.037712  0.524909       0.294574   \n",
       "1  0.375000  0.565217  0.000000     0.037712  0.524909       0.294574   \n",
       "2  0.504717  0.576560  0.000000     0.037712  0.524909       0.310078   \n",
       "3  0.417453  0.620038  0.000000     0.037712  0.524909       0.139535   \n",
       "4  0.613208  0.701323  0.002695     0.037712  0.524909       0.271318   \n",
       "\n",
       "   WindSpeed9am  WindSpeed3pm  Humidity9am  Humidity3pm  Pressure9am  \\\n",
       "0      0.153846      0.275862         0.71         0.22     0.449587   \n",
       "1      0.030769      0.252874         0.44         0.25     0.497521   \n",
       "2      0.146154      0.298851         0.38         0.30     0.447934   \n",
       "3      0.084615      0.103448         0.45         0.16     0.613223   \n",
       "4      0.053846      0.229885         0.82         0.33     0.500826   \n",
       "\n",
       "   Pressure3pm  Cloud9am  Cloud3pm   Temp9am   Temp3pm  \n",
       "0       0.4800  0.888889  0.501103  0.508439  0.522073  \n",
       "1       0.4912  0.494162  0.501103  0.514768  0.570058  \n",
       "2       0.5056  0.494162  0.222222  0.594937  0.548944  \n",
       "3       0.5712  0.494162  0.501103  0.533755  0.612284  \n",
       "4       0.4624  0.777778  0.888889  0.527426  0.673704  "
      ]
     },
     "execution_count": 40,
     "metadata": {},
     "output_type": "execute_result"
    }
   ],
   "source": [
    "# nakon skaliranja numerickih atributa\n",
    "\n",
    "df[numerical].head()"
   ]
  },
  {
   "cell_type": "markdown",
   "id": "massive-prevention",
   "metadata": {},
   "source": [
    "- Numerički atributi skalirani, vrednosti odredišnog atributa **'RainTomorrow'** mapirane u 0 i 1 (0 za **No**, 1 za **Yes**)\n",
    "- Još uvek nisu mapirane vrednosti kategoričkih atributa u numeričke vrednosti\n",
    "- Još uvek nije izvršena selekcija atributa\n",
    "- Skup je još uvek nebalansiran"
   ]
  },
  {
   "cell_type": "code",
   "execution_count": 101,
   "id": "wrapped-forth",
   "metadata": {},
   "outputs": [],
   "source": [
    "X_train, X_test, Y_train, Y_test = train_test_split(df[numerical], df['RainTomorrow'])"
   ]
  },
  {
   "cell_type": "code",
   "execution_count": 102,
   "id": "chemical-conference",
   "metadata": {},
   "outputs": [
    {
     "data": {
      "text/plain": [
       "(109095, 16)"
      ]
     },
     "execution_count": 102,
     "metadata": {},
     "output_type": "execute_result"
    }
   ],
   "source": [
    "X_train.shape"
   ]
  },
  {
   "cell_type": "code",
   "execution_count": 103,
   "id": "norwegian-collins",
   "metadata": {},
   "outputs": [
    {
     "data": {
      "text/plain": [
       "(109095,)"
      ]
     },
     "execution_count": 103,
     "metadata": {},
     "output_type": "execute_result"
    }
   ],
   "source": [
    "Y_train.shape"
   ]
  },
  {
   "cell_type": "code",
   "execution_count": 104,
   "id": "harmful-welding",
   "metadata": {},
   "outputs": [],
   "source": [
    "X_train, Y_train = shuffle(X_train, Y_train)"
   ]
  },
  {
   "cell_type": "code",
   "execution_count": 105,
   "id": "widespread-triple",
   "metadata": {},
   "outputs": [],
   "source": [
    "model = Sequential([\n",
    "    Dense(units=8, input_shape=(16, ), activation='relu'),\n",
    "    Dense(units=1, activation='sigmoid')\n",
    "])"
   ]
  },
  {
   "cell_type": "code",
   "execution_count": 106,
   "id": "grateful-speaking",
   "metadata": {},
   "outputs": [],
   "source": [
    "model.compile(optimizer=Adam(learning_rate=0.0001), loss='binary_crossentropy', metrics=['accuracy']) # sparse_categorical_crossentropy"
   ]
  },
  {
   "cell_type": "code",
   "execution_count": 107,
   "id": "respiratory-reproduction",
   "metadata": {},
   "outputs": [
    {
     "name": "stdout",
     "output_type": "stream",
     "text": [
      "Epoch 1/50\n",
      "3069/3069 - 2s - loss: 0.5513 - accuracy: 0.7771 - val_loss: 0.5109 - val_accuracy: 0.7842\n",
      "Epoch 2/50\n",
      "3069/3069 - 1s - loss: 0.4963 - accuracy: 0.7809 - val_loss: 0.4745 - val_accuracy: 0.7842\n",
      "Epoch 3/50\n",
      "3069/3069 - 1s - loss: 0.4630 - accuracy: 0.7809 - val_loss: 0.4454 - val_accuracy: 0.7842\n",
      "Epoch 4/50\n",
      "3069/3069 - 1s - loss: 0.4399 - accuracy: 0.7809 - val_loss: 0.4275 - val_accuracy: 0.7841\n",
      "Epoch 5/50\n",
      "3069/3069 - 1s - loss: 0.4224 - accuracy: 0.8041 - val_loss: 0.4099 - val_accuracy: 0.8194\n",
      "Epoch 6/50\n",
      "3069/3069 - 1s - loss: 0.4074 - accuracy: 0.8209 - val_loss: 0.3975 - val_accuracy: 0.8292\n",
      "Epoch 7/50\n",
      "3069/3069 - 1s - loss: 0.3972 - accuracy: 0.8267 - val_loss: 0.3893 - val_accuracy: 0.8342\n",
      "Epoch 8/50\n",
      "3069/3069 - 1s - loss: 0.3906 - accuracy: 0.8296 - val_loss: 0.3837 - val_accuracy: 0.8360\n",
      "Epoch 9/50\n",
      "3069/3069 - 1s - loss: 0.3861 - accuracy: 0.8311 - val_loss: 0.3799 - val_accuracy: 0.8373\n",
      "Epoch 10/50\n",
      "3069/3069 - 1s - loss: 0.3829 - accuracy: 0.8325 - val_loss: 0.3771 - val_accuracy: 0.8382\n",
      "Epoch 11/50\n",
      "3069/3069 - 1s - loss: 0.3806 - accuracy: 0.8334 - val_loss: 0.3751 - val_accuracy: 0.8383\n",
      "Epoch 12/50\n",
      "3069/3069 - 1s - loss: 0.3789 - accuracy: 0.8347 - val_loss: 0.3733 - val_accuracy: 0.8389\n",
      "Epoch 13/50\n",
      "3069/3069 - 1s - loss: 0.3776 - accuracy: 0.8352 - val_loss: 0.3719 - val_accuracy: 0.8394\n",
      "Epoch 14/50\n",
      "3069/3069 - 1s - loss: 0.3765 - accuracy: 0.8357 - val_loss: 0.3711 - val_accuracy: 0.8403\n",
      "Epoch 15/50\n",
      "3069/3069 - 1s - loss: 0.3757 - accuracy: 0.8359 - val_loss: 0.3701 - val_accuracy: 0.8402\n",
      "Epoch 16/50\n",
      "3069/3069 - 1s - loss: 0.3750 - accuracy: 0.8363 - val_loss: 0.3694 - val_accuracy: 0.8409\n",
      "Epoch 17/50\n",
      "3069/3069 - 1s - loss: 0.3744 - accuracy: 0.8367 - val_loss: 0.3687 - val_accuracy: 0.8414\n",
      "Epoch 18/50\n",
      "3069/3069 - 1s - loss: 0.3738 - accuracy: 0.8368 - val_loss: 0.3683 - val_accuracy: 0.8410\n",
      "Epoch 19/50\n",
      "3069/3069 - 1s - loss: 0.3733 - accuracy: 0.8375 - val_loss: 0.3676 - val_accuracy: 0.8418\n",
      "Epoch 20/50\n",
      "3069/3069 - 1s - loss: 0.3728 - accuracy: 0.8378 - val_loss: 0.3673 - val_accuracy: 0.8403\n",
      "Epoch 21/50\n",
      "3069/3069 - 1s - loss: 0.3725 - accuracy: 0.8378 - val_loss: 0.3667 - val_accuracy: 0.8415\n",
      "Epoch 22/50\n",
      "3069/3069 - 1s - loss: 0.3720 - accuracy: 0.8382 - val_loss: 0.3663 - val_accuracy: 0.8417\n",
      "Epoch 23/50\n",
      "3069/3069 - 1s - loss: 0.3717 - accuracy: 0.8380 - val_loss: 0.3659 - val_accuracy: 0.8413\n",
      "Epoch 24/50\n",
      "3069/3069 - 1s - loss: 0.3713 - accuracy: 0.8385 - val_loss: 0.3657 - val_accuracy: 0.8409\n",
      "Epoch 25/50\n",
      "3069/3069 - 1s - loss: 0.3710 - accuracy: 0.8388 - val_loss: 0.3652 - val_accuracy: 0.8412\n",
      "Epoch 26/50\n",
      "3069/3069 - 1s - loss: 0.3707 - accuracy: 0.8386 - val_loss: 0.3650 - val_accuracy: 0.8413\n",
      "Epoch 27/50\n",
      "3069/3069 - 1s - loss: 0.3704 - accuracy: 0.8389 - val_loss: 0.3645 - val_accuracy: 0.8412\n",
      "Epoch 28/50\n",
      "3069/3069 - 1s - loss: 0.3701 - accuracy: 0.8392 - val_loss: 0.3642 - val_accuracy: 0.8412\n",
      "Epoch 29/50\n",
      "3069/3069 - 1s - loss: 0.3698 - accuracy: 0.8396 - val_loss: 0.3640 - val_accuracy: 0.8421\n",
      "Epoch 30/50\n",
      "3069/3069 - 1s - loss: 0.3696 - accuracy: 0.8397 - val_loss: 0.3636 - val_accuracy: 0.8416\n",
      "Epoch 31/50\n",
      "3069/3069 - 1s - loss: 0.3693 - accuracy: 0.8397 - val_loss: 0.3633 - val_accuracy: 0.8422\n",
      "Epoch 32/50\n",
      "3069/3069 - 1s - loss: 0.3691 - accuracy: 0.8399 - val_loss: 0.3630 - val_accuracy: 0.8421\n",
      "Epoch 33/50\n",
      "3069/3069 - 1s - loss: 0.3689 - accuracy: 0.8399 - val_loss: 0.3630 - val_accuracy: 0.8419\n",
      "Epoch 34/50\n",
      "3069/3069 - 1s - loss: 0.3687 - accuracy: 0.8401 - val_loss: 0.3626 - val_accuracy: 0.8423\n",
      "Epoch 35/50\n",
      "3069/3069 - 1s - loss: 0.3685 - accuracy: 0.8404 - val_loss: 0.3624 - val_accuracy: 0.8420\n",
      "Epoch 36/50\n",
      "3069/3069 - 1s - loss: 0.3682 - accuracy: 0.8403 - val_loss: 0.3622 - val_accuracy: 0.8423\n",
      "Epoch 37/50\n",
      "3069/3069 - 1s - loss: 0.3680 - accuracy: 0.8404 - val_loss: 0.3619 - val_accuracy: 0.8423\n",
      "Epoch 38/50\n",
      "3069/3069 - 1s - loss: 0.3679 - accuracy: 0.8406 - val_loss: 0.3617 - val_accuracy: 0.8420\n",
      "Epoch 39/50\n",
      "3069/3069 - 1s - loss: 0.3677 - accuracy: 0.8405 - val_loss: 0.3616 - val_accuracy: 0.8424\n",
      "Epoch 40/50\n",
      "3069/3069 - 1s - loss: 0.3676 - accuracy: 0.8405 - val_loss: 0.3615 - val_accuracy: 0.8430\n",
      "Epoch 41/50\n",
      "3069/3069 - 1s - loss: 0.3674 - accuracy: 0.8409 - val_loss: 0.3612 - val_accuracy: 0.8424\n",
      "Epoch 42/50\n",
      "3069/3069 - 1s - loss: 0.3672 - accuracy: 0.8410 - val_loss: 0.3610 - val_accuracy: 0.8430\n",
      "Epoch 43/50\n",
      "3069/3069 - 1s - loss: 0.3671 - accuracy: 0.8411 - val_loss: 0.3609 - val_accuracy: 0.8427\n",
      "Epoch 44/50\n",
      "3069/3069 - 1s - loss: 0.3670 - accuracy: 0.8411 - val_loss: 0.3608 - val_accuracy: 0.8437\n",
      "Epoch 45/50\n",
      "3069/3069 - 1s - loss: 0.3669 - accuracy: 0.8412 - val_loss: 0.3605 - val_accuracy: 0.8438\n",
      "Epoch 46/50\n",
      "3069/3069 - 1s - loss: 0.3667 - accuracy: 0.8412 - val_loss: 0.3604 - val_accuracy: 0.8429\n",
      "Epoch 47/50\n",
      "3069/3069 - 1s - loss: 0.3666 - accuracy: 0.8412 - val_loss: 0.3603 - val_accuracy: 0.8429\n",
      "Epoch 48/50\n",
      "3069/3069 - 1s - loss: 0.3665 - accuracy: 0.8413 - val_loss: 0.3601 - val_accuracy: 0.8435\n",
      "Epoch 49/50\n",
      "3069/3069 - 1s - loss: 0.3663 - accuracy: 0.8414 - val_loss: 0.3601 - val_accuracy: 0.8442\n",
      "Epoch 50/50\n",
      "3069/3069 - 1s - loss: 0.3662 - accuracy: 0.8416 - val_loss: 0.3600 - val_accuracy: 0.8442\n"
     ]
    },
    {
     "data": {
      "text/plain": [
       "<tensorflow.python.keras.callbacks.History at 0x7f3d2831d6d0>"
      ]
     },
     "execution_count": 107,
     "metadata": {},
     "output_type": "execute_result"
    }
   ],
   "source": [
    "model.fit(x=X_train, y=Y_train, validation_split=0.1, epochs=50, verbose=2)"
   ]
  },
  {
   "cell_type": "code",
   "execution_count": 110,
   "id": "constitutional-tattoo",
   "metadata": {},
   "outputs": [
    {
     "data": {
      "text/plain": [
       "array([[0.51769656, 0.48230347],\n",
       "       [0.5164528 , 0.4835473 ],\n",
       "       [0.45597848, 0.54402155],\n",
       "       ...,\n",
       "       [0.4961411 , 0.50385886],\n",
       "       [0.5174684 , 0.48253164],\n",
       "       [0.51233983, 0.48766014]], dtype=float32)"
      ]
     },
     "execution_count": 110,
     "metadata": {},
     "output_type": "execute_result"
    }
   ],
   "source": [
    "predicted_values = model.predict(X_test)\n",
    "predicted_values"
   ]
  },
  {
   "cell_type": "code",
   "execution_count": 111,
   "id": "affecting-municipality",
   "metadata": {},
   "outputs": [],
   "source": [
    "model = Sequential([\n",
    "    Dense(units=8, input_shape=(16, ), activation='relu'),\n",
    "    Dense(units=2, activation='softmax')\n",
    "])"
   ]
  },
  {
   "cell_type": "code",
   "execution_count": 112,
   "id": "gorgeous-algebra",
   "metadata": {},
   "outputs": [],
   "source": [
    "model.compile(optimizer=Adam(learning_rate=0.0001), loss='sparse_categorical_crossentropy', metrics=['accuracy'])"
   ]
  },
  {
   "cell_type": "code",
   "execution_count": 113,
   "id": "concrete-custody",
   "metadata": {},
   "outputs": [
    {
     "name": "stdout",
     "output_type": "stream",
     "text": [
      "Epoch 1/50\n",
      "9819/9819 - 3s - loss: 0.4703 - accuracy: 0.7851 - val_loss: 0.4161 - val_accuracy: 0.8079\n",
      "Epoch 2/50\n",
      "9819/9819 - 3s - loss: 0.4049 - accuracy: 0.8159 - val_loss: 0.3901 - val_accuracy: 0.8301\n",
      "Epoch 3/50\n",
      "9819/9819 - 3s - loss: 0.3888 - accuracy: 0.8303 - val_loss: 0.3803 - val_accuracy: 0.8388\n",
      "Epoch 4/50\n",
      "9819/9819 - 3s - loss: 0.3815 - accuracy: 0.8349 - val_loss: 0.3746 - val_accuracy: 0.8405\n",
      "Epoch 5/50\n",
      "9819/9819 - 3s - loss: 0.3775 - accuracy: 0.8365 - val_loss: 0.3713 - val_accuracy: 0.8400\n",
      "Epoch 6/50\n",
      "9819/9819 - 3s - loss: 0.3749 - accuracy: 0.8375 - val_loss: 0.3691 - val_accuracy: 0.8406\n",
      "Epoch 7/50\n",
      "9819/9819 - 3s - loss: 0.3733 - accuracy: 0.8383 - val_loss: 0.3676 - val_accuracy: 0.8421\n",
      "Epoch 8/50\n",
      "9819/9819 - 3s - loss: 0.3721 - accuracy: 0.8388 - val_loss: 0.3667 - val_accuracy: 0.8418\n",
      "Epoch 9/50\n",
      "9819/9819 - 3s - loss: 0.3712 - accuracy: 0.8392 - val_loss: 0.3660 - val_accuracy: 0.8428\n",
      "Epoch 10/50\n",
      "9819/9819 - 3s - loss: 0.3705 - accuracy: 0.8395 - val_loss: 0.3649 - val_accuracy: 0.8427\n",
      "Epoch 11/50\n",
      "9819/9819 - 3s - loss: 0.3698 - accuracy: 0.8398 - val_loss: 0.3651 - val_accuracy: 0.8432\n",
      "Epoch 12/50\n",
      "9819/9819 - 3s - loss: 0.3692 - accuracy: 0.8399 - val_loss: 0.3637 - val_accuracy: 0.8429\n",
      "Epoch 13/50\n",
      "9819/9819 - 3s - loss: 0.3687 - accuracy: 0.8407 - val_loss: 0.3632 - val_accuracy: 0.8428\n",
      "Epoch 14/50\n",
      "9819/9819 - 3s - loss: 0.3681 - accuracy: 0.8406 - val_loss: 0.3628 - val_accuracy: 0.8433\n",
      "Epoch 15/50\n",
      "9819/9819 - 3s - loss: 0.3677 - accuracy: 0.8409 - val_loss: 0.3624 - val_accuracy: 0.8431\n",
      "Epoch 16/50\n",
      "9819/9819 - 3s - loss: 0.3672 - accuracy: 0.8411 - val_loss: 0.3619 - val_accuracy: 0.8434\n",
      "Epoch 17/50\n",
      "9819/9819 - 3s - loss: 0.3667 - accuracy: 0.8417 - val_loss: 0.3624 - val_accuracy: 0.8429\n",
      "Epoch 18/50\n",
      "9819/9819 - 3s - loss: 0.3663 - accuracy: 0.8421 - val_loss: 0.3611 - val_accuracy: 0.8443\n",
      "Epoch 19/50\n",
      "9819/9819 - 3s - loss: 0.3659 - accuracy: 0.8421 - val_loss: 0.3606 - val_accuracy: 0.8440\n",
      "Epoch 20/50\n",
      "9819/9819 - 3s - loss: 0.3655 - accuracy: 0.8425 - val_loss: 0.3604 - val_accuracy: 0.8442\n",
      "Epoch 21/50\n",
      "9819/9819 - 3s - loss: 0.3651 - accuracy: 0.8428 - val_loss: 0.3601 - val_accuracy: 0.8443\n",
      "Epoch 22/50\n",
      "9819/9819 - 3s - loss: 0.3647 - accuracy: 0.8429 - val_loss: 0.3597 - val_accuracy: 0.8445\n",
      "Epoch 23/50\n",
      "9819/9819 - 3s - loss: 0.3643 - accuracy: 0.8429 - val_loss: 0.3592 - val_accuracy: 0.8450\n",
      "Epoch 24/50\n",
      "9819/9819 - 3s - loss: 0.3640 - accuracy: 0.8431 - val_loss: 0.3592 - val_accuracy: 0.8452\n",
      "Epoch 25/50\n",
      "9819/9819 - 3s - loss: 0.3637 - accuracy: 0.8432 - val_loss: 0.3590 - val_accuracy: 0.8439\n",
      "Epoch 26/50\n",
      "9819/9819 - 4s - loss: 0.3633 - accuracy: 0.8436 - val_loss: 0.3585 - val_accuracy: 0.8451\n",
      "Epoch 27/50\n",
      "9819/9819 - 3s - loss: 0.3630 - accuracy: 0.8439 - val_loss: 0.3581 - val_accuracy: 0.8461\n",
      "Epoch 28/50\n",
      "9819/9819 - 3s - loss: 0.3628 - accuracy: 0.8438 - val_loss: 0.3578 - val_accuracy: 0.8456\n",
      "Epoch 29/50\n",
      "9819/9819 - 3s - loss: 0.3624 - accuracy: 0.8441 - val_loss: 0.3577 - val_accuracy: 0.8453\n",
      "Epoch 30/50\n",
      "9819/9819 - 3s - loss: 0.3622 - accuracy: 0.8443 - val_loss: 0.3573 - val_accuracy: 0.8453\n",
      "Epoch 31/50\n",
      "9819/9819 - 3s - loss: 0.3619 - accuracy: 0.8441 - val_loss: 0.3573 - val_accuracy: 0.8456\n",
      "Epoch 32/50\n",
      "9819/9819 - 3s - loss: 0.3617 - accuracy: 0.8447 - val_loss: 0.3568 - val_accuracy: 0.8458\n",
      "Epoch 33/50\n",
      "9819/9819 - 3s - loss: 0.3614 - accuracy: 0.8447 - val_loss: 0.3566 - val_accuracy: 0.8458\n",
      "Epoch 34/50\n",
      "9819/9819 - 3s - loss: 0.3611 - accuracy: 0.8449 - val_loss: 0.3564 - val_accuracy: 0.8465\n",
      "Epoch 35/50\n",
      "9819/9819 - 3s - loss: 0.3610 - accuracy: 0.8447 - val_loss: 0.3561 - val_accuracy: 0.8461\n",
      "Epoch 36/50\n",
      "9819/9819 - 3s - loss: 0.3608 - accuracy: 0.8445 - val_loss: 0.3558 - val_accuracy: 0.8458\n",
      "Epoch 37/50\n",
      "9819/9819 - 3s - loss: 0.3606 - accuracy: 0.8451 - val_loss: 0.3557 - val_accuracy: 0.8462\n",
      "Epoch 38/50\n",
      "9819/9819 - 3s - loss: 0.3604 - accuracy: 0.8453 - val_loss: 0.3556 - val_accuracy: 0.8467\n",
      "Epoch 39/50\n",
      "9819/9819 - 3s - loss: 0.3602 - accuracy: 0.8452 - val_loss: 0.3552 - val_accuracy: 0.8467\n",
      "Epoch 40/50\n",
      "9819/9819 - 3s - loss: 0.3600 - accuracy: 0.8452 - val_loss: 0.3557 - val_accuracy: 0.8467\n",
      "Epoch 41/50\n",
      "9819/9819 - 3s - loss: 0.3598 - accuracy: 0.8452 - val_loss: 0.3552 - val_accuracy: 0.8462\n",
      "Epoch 42/50\n",
      "9819/9819 - 3s - loss: 0.3598 - accuracy: 0.8453 - val_loss: 0.3548 - val_accuracy: 0.8462\n",
      "Epoch 43/50\n",
      "9819/9819 - 3s - loss: 0.3595 - accuracy: 0.8456 - val_loss: 0.3549 - val_accuracy: 0.8461\n",
      "Epoch 44/50\n",
      "9819/9819 - 3s - loss: 0.3594 - accuracy: 0.8455 - val_loss: 0.3546 - val_accuracy: 0.8459\n",
      "Epoch 45/50\n",
      "9819/9819 - 3s - loss: 0.3593 - accuracy: 0.8453 - val_loss: 0.3543 - val_accuracy: 0.8457\n",
      "Epoch 46/50\n",
      "9819/9819 - 3s - loss: 0.3591 - accuracy: 0.8457 - val_loss: 0.3542 - val_accuracy: 0.8458\n",
      "Epoch 47/50\n",
      "9819/9819 - 3s - loss: 0.3590 - accuracy: 0.8457 - val_loss: 0.3541 - val_accuracy: 0.8460\n",
      "Epoch 48/50\n",
      "9819/9819 - 3s - loss: 0.3589 - accuracy: 0.8458 - val_loss: 0.3538 - val_accuracy: 0.8464\n",
      "Epoch 49/50\n",
      "9819/9819 - 3s - loss: 0.3587 - accuracy: 0.8460 - val_loss: 0.3546 - val_accuracy: 0.8471\n",
      "Epoch 50/50\n",
      "9819/9819 - 3s - loss: 0.3586 - accuracy: 0.8462 - val_loss: 0.3539 - val_accuracy: 0.8461\n"
     ]
    },
    {
     "data": {
      "text/plain": [
       "<tensorflow.python.keras.callbacks.History at 0x7f3d2838d5e0>"
      ]
     },
     "execution_count": 113,
     "metadata": {},
     "output_type": "execute_result"
    }
   ],
   "source": [
    "model.fit(x=X_train, y=Y_train, validation_split=0.1, batch_size=10, epochs=50, verbose=2)"
   ]
  },
  {
   "cell_type": "code",
   "execution_count": 114,
   "id": "engaged-florida",
   "metadata": {},
   "outputs": [
    {
     "data": {
      "text/plain": [
       "array([[0.7527401 , 0.24725993],\n",
       "       [0.91010046, 0.08989957],\n",
       "       [0.9941924 , 0.00580751],\n",
       "       ...,\n",
       "       [0.98542213, 0.0145779 ],\n",
       "       [0.8782119 , 0.12178814],\n",
       "       [0.92122173, 0.07877834]], dtype=float32)"
      ]
     },
     "execution_count": 114,
     "metadata": {},
     "output_type": "execute_result"
    }
   ],
   "source": [
    "predicted_values = model.predict(X_test)\n",
    "predicted_values"
   ]
  },
  {
   "cell_type": "code",
   "execution_count": 115,
   "id": "traditional-witness",
   "metadata": {},
   "outputs": [
    {
     "data": {
      "text/plain": [
       "array([0, 0, 0, ..., 0, 0, 0])"
      ]
     },
     "execution_count": 115,
     "metadata": {},
     "output_type": "execute_result"
    }
   ],
   "source": [
    "predicted_values = np.argmax(predicted_values, axis=-1)\n",
    "predicted_values"
   ]
  },
  {
   "cell_type": "code",
   "execution_count": 116,
   "id": "verified-strengthening",
   "metadata": {},
   "outputs": [
    {
     "data": {
      "image/png": "[encoded data removed]",
      "text/plain": [
       "<Figure size 432x288 with 1 Axes>"
      ]
     },
     "metadata": {
      "needs_background": "light"
     },
     "output_type": "display_data"
    }
   ],
   "source": [
    "conf_mat = confusion_matrix(Y_test, predicted_values)\n",
    "conf_mat_df = pd.DataFrame(conf_mat, index=['No', 'Yes'], columns=['No', 'Yes'])\n",
    "cmap = sns.cubehelix_palette(light=1, as_cmap=True)\n",
    "h_map = sns.heatmap(conf_mat, annot=True, cbar=False, fmt='d', cmap=cmap)\n",
    "h_map.invert_yaxis()\n",
    "h_map.invert_xaxis()"
   ]
  },
  {
   "cell_type": "code",
   "execution_count": 117,
   "id": "compound-cache",
   "metadata": {},
   "outputs": [
    {
     "name": "stdout",
     "output_type": "stream",
     "text": [
      "              precision    recall  f1-score   support\n",
      "\n",
      "           0       0.87      0.94      0.90     28354\n",
      "           1       0.70      0.51      0.59      8011\n",
      "\n",
      "    accuracy                           0.84     36365\n",
      "   macro avg       0.78      0.72      0.75     36365\n",
      "weighted avg       0.83      0.84      0.83     36365\n",
      "\n"
     ]
    }
   ],
   "source": [
    "class_report = classification_report(Y_test, predicted_values)\n",
    "print(class_report)"
   ]
  },
  {
   "cell_type": "code",
   "execution_count": 118,
   "id": "sexual-jamaica",
   "metadata": {},
   "outputs": [
    {
     "data": {
      "text/plain": [
       "0.8427333974975938"
      ]
     },
     "execution_count": 118,
     "metadata": {},
     "output_type": "execute_result"
    }
   ],
   "source": [
    "accuracy = accuracy_score(Y_test, predicted_values)\n",
    "accuracy"
   ]
  },
  {
   "cell_type": "markdown",
   "id": "expected-gender",
   "metadata": {},
   "source": [
    "- Recall klase 1 (pada kiša), iznosi 0.48 i znato je manji od recall-a klase 0 (ne pada kiša) koji iznosi 0.87\n",
    "- Ovakav rezultat mogao se i očekivati zbog loše ujednačenosti pomenutih klasa, odnosno znatno većeg prisustva opservacija u skupu podataka koje za vrednost odredišnog atributa imaju 0 (ne pada kiša)"
   ]
  },
  {
   "cell_type": "markdown",
   "id": "baking-momentum",
   "metadata": {},
   "source": [
    "### Da li će dodavanje još jednog skrivenog sloja poboljšati situaciju?"
   ]
  },
  {
   "cell_type": "code",
   "execution_count": 119,
   "id": "elect-musician",
   "metadata": {},
   "outputs": [],
   "source": [
    "model = Sequential([\n",
    "    Dense(units=8, input_shape=(16, ), activation='relu'),\n",
    "    Dense(units=16, activation='relu'),\n",
    "    Dense(units=2, activation='softmax')\n",
    "])"
   ]
  },
  {
   "cell_type": "code",
   "execution_count": 120,
   "id": "industrial-ballet",
   "metadata": {},
   "outputs": [],
   "source": [
    "model.compile(optimizer=Adam(learning_rate=0.0001), loss='sparse_categorical_crossentropy', metrics=['accuracy'])"
   ]
  },
  {
   "cell_type": "code",
   "execution_count": 121,
   "id": "joint-likelihood",
   "metadata": {},
   "outputs": [
    {
     "name": "stdout",
     "output_type": "stream",
     "text": [
      "Epoch 1/50\n",
      "9819/9819 - 3s - loss: 0.4404 - accuracy: 0.8060 - val_loss: 0.3916 - val_accuracy: 0.8268\n",
      "Epoch 2/50\n",
      "9819/9819 - 3s - loss: 0.3873 - accuracy: 0.8279 - val_loss: 0.3762 - val_accuracy: 0.8383\n",
      "Epoch 3/50\n",
      "9819/9819 - 3s - loss: 0.3783 - accuracy: 0.8344 - val_loss: 0.3721 - val_accuracy: 0.8421\n",
      "Epoch 4/50\n",
      "9819/9819 - 3s - loss: 0.3747 - accuracy: 0.8373 - val_loss: 0.3684 - val_accuracy: 0.8408\n",
      "Epoch 5/50\n",
      "9819/9819 - 3s - loss: 0.3727 - accuracy: 0.8384 - val_loss: 0.3667 - val_accuracy: 0.8421\n",
      "Epoch 6/50\n",
      "9819/9819 - 3s - loss: 0.3715 - accuracy: 0.8388 - val_loss: 0.3657 - val_accuracy: 0.8426\n",
      "Epoch 7/50\n",
      "9819/9819 - 3s - loss: 0.3707 - accuracy: 0.8394 - val_loss: 0.3649 - val_accuracy: 0.8434\n",
      "Epoch 8/50\n",
      "9819/9819 - 3s - loss: 0.3700 - accuracy: 0.8399 - val_loss: 0.3639 - val_accuracy: 0.8432\n",
      "Epoch 9/50\n",
      "9819/9819 - 3s - loss: 0.3696 - accuracy: 0.8397 - val_loss: 0.3633 - val_accuracy: 0.8433\n",
      "Epoch 10/50\n",
      "9819/9819 - 3s - loss: 0.3691 - accuracy: 0.8402 - val_loss: 0.3631 - val_accuracy: 0.8437\n",
      "Epoch 11/50\n",
      "9819/9819 - 3s - loss: 0.3687 - accuracy: 0.8403 - val_loss: 0.3624 - val_accuracy: 0.8437\n",
      "Epoch 12/50\n",
      "9819/9819 - 3s - loss: 0.3683 - accuracy: 0.8410 - val_loss: 0.3628 - val_accuracy: 0.8441\n",
      "Epoch 13/50\n",
      "9819/9819 - 3s - loss: 0.3680 - accuracy: 0.8410 - val_loss: 0.3617 - val_accuracy: 0.8437\n",
      "Epoch 14/50\n",
      "9819/9819 - 3s - loss: 0.3676 - accuracy: 0.8408 - val_loss: 0.3621 - val_accuracy: 0.8427\n",
      "Epoch 15/50\n",
      "9819/9819 - 3s - loss: 0.3674 - accuracy: 0.8410 - val_loss: 0.3626 - val_accuracy: 0.8456\n",
      "Epoch 16/50\n",
      "9819/9819 - 3s - loss: 0.3670 - accuracy: 0.8416 - val_loss: 0.3607 - val_accuracy: 0.8439\n",
      "Epoch 17/50\n",
      "9819/9819 - 3s - loss: 0.3668 - accuracy: 0.8415 - val_loss: 0.3602 - val_accuracy: 0.8446\n",
      "Epoch 18/50\n",
      "9819/9819 - 3s - loss: 0.3665 - accuracy: 0.8416 - val_loss: 0.3601 - val_accuracy: 0.8444\n",
      "Epoch 19/50\n",
      "9819/9819 - 3s - loss: 0.3664 - accuracy: 0.8417 - val_loss: 0.3611 - val_accuracy: 0.8435\n",
      "Epoch 20/50\n",
      "9819/9819 - 3s - loss: 0.3662 - accuracy: 0.8417 - val_loss: 0.3596 - val_accuracy: 0.8447\n",
      "Epoch 21/50\n",
      "9819/9819 - 3s - loss: 0.3660 - accuracy: 0.8414 - val_loss: 0.3607 - val_accuracy: 0.8454\n",
      "Epoch 22/50\n",
      "9819/9819 - 3s - loss: 0.3658 - accuracy: 0.8423 - val_loss: 0.3593 - val_accuracy: 0.8445\n",
      "Epoch 23/50\n",
      "9819/9819 - 3s - loss: 0.3657 - accuracy: 0.8421 - val_loss: 0.3589 - val_accuracy: 0.8445\n",
      "Epoch 24/50\n",
      "9819/9819 - 3s - loss: 0.3655 - accuracy: 0.8422 - val_loss: 0.3589 - val_accuracy: 0.8448\n",
      "Epoch 25/50\n",
      "9819/9819 - 3s - loss: 0.3654 - accuracy: 0.8421 - val_loss: 0.3599 - val_accuracy: 0.8443\n",
      "Epoch 26/50\n",
      "9819/9819 - 3s - loss: 0.3652 - accuracy: 0.8419 - val_loss: 0.3587 - val_accuracy: 0.8460\n",
      "Epoch 27/50\n",
      "9819/9819 - 3s - loss: 0.3651 - accuracy: 0.8422 - val_loss: 0.3586 - val_accuracy: 0.8451\n",
      "Epoch 28/50\n",
      "9819/9819 - 3s - loss: 0.3650 - accuracy: 0.8424 - val_loss: 0.3589 - val_accuracy: 0.8452\n",
      "Epoch 29/50\n",
      "9819/9819 - 3s - loss: 0.3649 - accuracy: 0.8425 - val_loss: 0.3582 - val_accuracy: 0.8454\n",
      "Epoch 30/50\n",
      "9819/9819 - 3s - loss: 0.3647 - accuracy: 0.8422 - val_loss: 0.3583 - val_accuracy: 0.8452\n",
      "Epoch 31/50\n",
      "9819/9819 - 3s - loss: 0.3645 - accuracy: 0.8423 - val_loss: 0.3579 - val_accuracy: 0.8456\n",
      "Epoch 32/50\n",
      "9819/9819 - 3s - loss: 0.3645 - accuracy: 0.8422 - val_loss: 0.3577 - val_accuracy: 0.8456\n",
      "Epoch 33/50\n",
      "9819/9819 - 3s - loss: 0.3643 - accuracy: 0.8426 - val_loss: 0.3576 - val_accuracy: 0.8445\n",
      "Epoch 34/50\n",
      "9819/9819 - 3s - loss: 0.3643 - accuracy: 0.8426 - val_loss: 0.3577 - val_accuracy: 0.8454\n",
      "Epoch 35/50\n",
      "9819/9819 - 3s - loss: 0.3642 - accuracy: 0.8427 - val_loss: 0.3579 - val_accuracy: 0.8453\n",
      "Epoch 36/50\n",
      "9819/9819 - 3s - loss: 0.3640 - accuracy: 0.8427 - val_loss: 0.3585 - val_accuracy: 0.8444\n",
      "Epoch 37/50\n",
      "9819/9819 - 3s - loss: 0.3640 - accuracy: 0.8425 - val_loss: 0.3572 - val_accuracy: 0.8448\n",
      "Epoch 38/50\n",
      "9819/9819 - 3s - loss: 0.3639 - accuracy: 0.8424 - val_loss: 0.3583 - val_accuracy: 0.8467\n",
      "Epoch 39/50\n",
      "9819/9819 - 3s - loss: 0.3638 - accuracy: 0.8430 - val_loss: 0.3570 - val_accuracy: 0.8445\n",
      "Epoch 40/50\n",
      "9819/9819 - 3s - loss: 0.3636 - accuracy: 0.8431 - val_loss: 0.3574 - val_accuracy: 0.8464\n",
      "Epoch 41/50\n",
      "9819/9819 - 3s - loss: 0.3636 - accuracy: 0.8432 - val_loss: 0.3568 - val_accuracy: 0.8447\n",
      "Epoch 42/50\n",
      "9819/9819 - 3s - loss: 0.3634 - accuracy: 0.8431 - val_loss: 0.3568 - val_accuracy: 0.8456\n",
      "Epoch 43/50\n",
      "9819/9819 - 3s - loss: 0.3634 - accuracy: 0.8429 - val_loss: 0.3570 - val_accuracy: 0.8457\n",
      "Epoch 44/50\n",
      "9819/9819 - 3s - loss: 0.3632 - accuracy: 0.8432 - val_loss: 0.3578 - val_accuracy: 0.8445\n",
      "Epoch 45/50\n",
      "9819/9819 - 3s - loss: 0.3632 - accuracy: 0.8434 - val_loss: 0.3564 - val_accuracy: 0.8453\n",
      "Epoch 46/50\n",
      "9819/9819 - 3s - loss: 0.3631 - accuracy: 0.8429 - val_loss: 0.3563 - val_accuracy: 0.8452\n",
      "Epoch 47/50\n",
      "9819/9819 - 3s - loss: 0.3630 - accuracy: 0.8430 - val_loss: 0.3562 - val_accuracy: 0.8454\n",
      "Epoch 48/50\n",
      "9819/9819 - 3s - loss: 0.3629 - accuracy: 0.8437 - val_loss: 0.3565 - val_accuracy: 0.8455\n",
      "Epoch 49/50\n",
      "9819/9819 - 3s - loss: 0.3628 - accuracy: 0.8433 - val_loss: 0.3561 - val_accuracy: 0.8453\n",
      "Epoch 50/50\n",
      "9819/9819 - 3s - loss: 0.3627 - accuracy: 0.8435 - val_loss: 0.3561 - val_accuracy: 0.8462\n"
     ]
    },
    {
     "data": {
      "text/plain": [
       "<tensorflow.python.keras.callbacks.History at 0x7f3d23c1a0a0>"
      ]
     },
     "execution_count": 121,
     "metadata": {},
     "output_type": "execute_result"
    }
   ],
   "source": [
    "model.fit(x=X_train, y=Y_train, validation_split=0.1, batch_size=10, epochs=50, verbose=2)"
   ]
  },
  {
   "cell_type": "code",
   "execution_count": 122,
   "id": "forward-prize",
   "metadata": {},
   "outputs": [
    {
     "data": {
      "text/plain": [
       "array([[0.76612276, 0.2338773 ],\n",
       "       [0.94131094, 0.05868913],\n",
       "       [0.99055475, 0.00944526],\n",
       "       ...,\n",
       "       [0.98006   , 0.01993999],\n",
       "       [0.9042089 , 0.09579109],\n",
       "       [0.92128056, 0.07871938]], dtype=float32)"
      ]
     },
     "execution_count": 122,
     "metadata": {},
     "output_type": "execute_result"
    }
   ],
   "source": [
    "predicted_values = model.predict(X_test)\n",
    "predicted_values"
   ]
  },
  {
   "cell_type": "code",
   "execution_count": 123,
   "id": "antique-archive",
   "metadata": {},
   "outputs": [
    {
     "data": {
      "text/plain": [
       "array([0, 0, 0, ..., 0, 0, 0])"
      ]
     },
     "execution_count": 123,
     "metadata": {},
     "output_type": "execute_result"
    }
   ],
   "source": [
    "predicted_values = np.argmax(predicted_values, axis=-1)\n",
    "predicted_values"
   ]
  },
  {
   "cell_type": "code",
   "execution_count": 124,
   "id": "accepted-resident",
   "metadata": {},
   "outputs": [
    {
     "data": {
      "image/png": "[encoded data removed]",
      "text/plain": [
       "<Figure size 432x288 with 1 Axes>"
      ]
     },
     "metadata": {
      "needs_background": "light"
     },
     "output_type": "display_data"
    }
   ],
   "source": [
    "conf_mat = confusion_matrix(Y_test, predicted_values)\n",
    "conf_mat_df = pd.DataFrame(conf_mat, index=['No', 'Yes'], columns=['No', 'Yes'])\n",
    "cmap = sns.cubehelix_palette(light=1, as_cmap=True)\n",
    "h_map = sns.heatmap(conf_mat, cbar=False, annot=True, fmt='d')\n",
    "h_map.invert_xaxis()\n",
    "h_map.invert_yaxis()"
   ]
  },
  {
   "cell_type": "code",
   "execution_count": 125,
   "id": "developing-quantity",
   "metadata": {},
   "outputs": [
    {
     "name": "stdout",
     "output_type": "stream",
     "text": [
      "              precision    recall  f1-score   support\n",
      "\n",
      "           0       0.87      0.94      0.90     28354\n",
      "           1       0.69      0.49      0.57      8011\n",
      "\n",
      "    accuracy                           0.84     36365\n",
      "   macro avg       0.78      0.71      0.74     36365\n",
      "weighted avg       0.83      0.84      0.83     36365\n",
      "\n"
     ]
    }
   ],
   "source": [
    "class_report = classification_report(Y_test, predicted_values)\n",
    "print(class_report)"
   ]
  },
  {
   "cell_type": "code",
   "execution_count": 65,
   "id": "compliant-russell",
   "metadata": {},
   "outputs": [
    {
     "data": {
      "text/plain": [
       "0.8318163068884917"
      ]
     },
     "execution_count": 65,
     "metadata": {},
     "output_type": "execute_result"
    }
   ],
   "source": [
    "accuracy = accuracy_score(Y_test, predicted_values)\n",
    "accuracy"
   ]
  },
  {
   "cell_type": "markdown",
   "id": "fatty-carnival",
   "metadata": {},
   "source": [
    "### Da li se menja situacija nakon mapiranja vrednosti kategoričkih promenljivih u numeričke vrednosti?"
   ]
  },
  {
   "cell_type": "code",
   "execution_count": 41,
   "id": "forbidden-mining",
   "metadata": {},
   "outputs": [],
   "source": [
    "dummies = pd.get_dummies(df[categorical])"
   ]
  },
  {
   "cell_type": "code",
   "execution_count": 42,
   "id": "modular-cruise",
   "metadata": {},
   "outputs": [],
   "source": [
    "df_numeric_scaled_dummy_encoded = pd.DataFrame(df[numerical], columns=df[numerical].columns)"
   ]
  },
  {
   "cell_type": "code",
   "execution_count": 43,
   "id": "legitimate-indicator",
   "metadata": {},
   "outputs": [],
   "source": [
    "dummy = pd.get_dummies(df[categorical].drop('RainTomorrow', axis=1))"
   ]
  },
  {
   "cell_type": "code",
   "execution_count": 44,
   "id": "ahead-heart",
   "metadata": {},
   "outputs": [],
   "source": [
    "df_numeric_scaled_dummy_encoded = pd.concat([df_numeric_scaled_dummy_encoded, dummy], axis=1, join='inner')\n",
    "df_numeric_scaled_dummy_encoded['RainTomorrow'] = df['RainTomorrow']"
   ]
  },
  {
   "cell_type": "code",
   "execution_count": 45,
   "id": "racial-garbage",
   "metadata": {},
   "outputs": [],
   "source": [
    "X_train, X_test, Y_train, Y_test = train_test_split(df_numeric_scaled_dummy_encoded.drop('RainTomorrow', axis=1), df_numeric_scaled_dummy_encoded['RainTomorrow'])"
   ]
  },
  {
   "cell_type": "code",
   "execution_count": 46,
   "id": "successful-wallpaper",
   "metadata": {},
   "outputs": [],
   "source": [
    "X_train, Y_train = shuffle(X_train, Y_train)"
   ]
  },
  {
   "cell_type": "code",
   "execution_count": 47,
   "id": "cutting-technician",
   "metadata": {},
   "outputs": [
    {
     "data": {
      "text/plain": [
       "(109095, 3551)"
      ]
     },
     "execution_count": 47,
     "metadata": {},
     "output_type": "execute_result"
    }
   ],
   "source": [
    "X_train.shape"
   ]
  },
  {
   "cell_type": "code",
   "execution_count": 133,
   "id": "swedish-closing",
   "metadata": {},
   "outputs": [],
   "source": [
    "model = Sequential([\n",
    "    Dense(units=8, input_shape=(3551, ), activation='relu'),\n",
    "    Dense(units=2, activation='softmax')\n",
    "])"
   ]
  },
  {
   "cell_type": "code",
   "execution_count": 134,
   "id": "prostate-great",
   "metadata": {},
   "outputs": [],
   "source": [
    "model.compile(optimizer=Adam(learning_rate=0.0001), loss='sparse_categorical_crossentropy', metrics=['accuracy'])"
   ]
  },
  {
   "cell_type": "code",
   "execution_count": 135,
   "id": "cleared-morris",
   "metadata": {},
   "outputs": [
    {
     "name": "stdout",
     "output_type": "stream",
     "text": [
      "Epoch 1/50\n",
      "9819/9819 - 6s - loss: 0.4618 - accuracy: 0.7960 - val_loss: 0.4101 - val_accuracy: 0.8164\n",
      "Epoch 2/50\n",
      "9819/9819 - 5s - loss: 0.3839 - accuracy: 0.8299 - val_loss: 0.3765 - val_accuracy: 0.8357\n",
      "Epoch 3/50\n",
      "9819/9819 - 5s - loss: 0.3585 - accuracy: 0.8426 - val_loss: 0.3631 - val_accuracy: 0.8435\n",
      "Epoch 4/50\n",
      "9819/9819 - 5s - loss: 0.3455 - accuracy: 0.8492 - val_loss: 0.3566 - val_accuracy: 0.8456\n",
      "Epoch 5/50\n",
      "9819/9819 - 5s - loss: 0.3376 - accuracy: 0.8526 - val_loss: 0.3544 - val_accuracy: 0.8485\n",
      "Epoch 6/50\n",
      "9819/9819 - 5s - loss: 0.3323 - accuracy: 0.8548 - val_loss: 0.3527 - val_accuracy: 0.8484\n",
      "Epoch 7/50\n",
      "9819/9819 - 5s - loss: 0.3285 - accuracy: 0.8567 - val_loss: 0.3528 - val_accuracy: 0.8480\n",
      "Epoch 8/50\n",
      "9819/9819 - 5s - loss: 0.3257 - accuracy: 0.8574 - val_loss: 0.3529 - val_accuracy: 0.8489\n",
      "Epoch 9/50\n",
      "9819/9819 - 5s - loss: 0.3234 - accuracy: 0.8586 - val_loss: 0.3537 - val_accuracy: 0.8489\n",
      "Epoch 10/50\n",
      "9819/9819 - 5s - loss: 0.3214 - accuracy: 0.8593 - val_loss: 0.3547 - val_accuracy: 0.8474\n",
      "Epoch 11/50\n",
      "9819/9819 - 5s - loss: 0.3198 - accuracy: 0.8603 - val_loss: 0.3551 - val_accuracy: 0.8469\n",
      "Epoch 12/50\n",
      "9819/9819 - 5s - loss: 0.3181 - accuracy: 0.8617 - val_loss: 0.3546 - val_accuracy: 0.8486\n",
      "Epoch 13/50\n",
      "9819/9819 - 5s - loss: 0.3164 - accuracy: 0.8620 - val_loss: 0.3542 - val_accuracy: 0.8478\n",
      "Epoch 14/50\n",
      "9819/9819 - 5s - loss: 0.3148 - accuracy: 0.8628 - val_loss: 0.3550 - val_accuracy: 0.8494\n",
      "Epoch 15/50\n",
      "9819/9819 - 5s - loss: 0.3133 - accuracy: 0.8637 - val_loss: 0.3539 - val_accuracy: 0.8484\n",
      "Epoch 16/50\n",
      "9819/9819 - 5s - loss: 0.3119 - accuracy: 0.8647 - val_loss: 0.3534 - val_accuracy: 0.8478\n",
      "Epoch 17/50\n",
      "9819/9819 - 5s - loss: 0.3105 - accuracy: 0.8651 - val_loss: 0.3533 - val_accuracy: 0.8501\n",
      "Epoch 18/50\n",
      "9819/9819 - 5s - loss: 0.3090 - accuracy: 0.8665 - val_loss: 0.3541 - val_accuracy: 0.8497\n",
      "Epoch 19/50\n",
      "9819/9819 - 5s - loss: 0.3076 - accuracy: 0.8671 - val_loss: 0.3544 - val_accuracy: 0.8500\n",
      "Epoch 20/50\n",
      "9819/9819 - 5s - loss: 0.3064 - accuracy: 0.8677 - val_loss: 0.3537 - val_accuracy: 0.8514\n",
      "Epoch 21/50\n",
      "9819/9819 - 5s - loss: 0.3051 - accuracy: 0.8680 - val_loss: 0.3536 - val_accuracy: 0.8502\n",
      "Epoch 22/50\n",
      "9819/9819 - 5s - loss: 0.3040 - accuracy: 0.8685 - val_loss: 0.3538 - val_accuracy: 0.8516\n",
      "Epoch 23/50\n",
      "9819/9819 - 5s - loss: 0.3028 - accuracy: 0.8690 - val_loss: 0.3543 - val_accuracy: 0.8506\n",
      "Epoch 24/50\n",
      "9819/9819 - 5s - loss: 0.3018 - accuracy: 0.8695 - val_loss: 0.3548 - val_accuracy: 0.8533\n",
      "Epoch 25/50\n",
      "9819/9819 - 5s - loss: 0.3008 - accuracy: 0.8697 - val_loss: 0.3539 - val_accuracy: 0.8510\n",
      "Epoch 26/50\n",
      "9819/9819 - 5s - loss: 0.2998 - accuracy: 0.8706 - val_loss: 0.3544 - val_accuracy: 0.8512\n",
      "Epoch 27/50\n",
      "9819/9819 - 5s - loss: 0.2987 - accuracy: 0.8717 - val_loss: 0.3550 - val_accuracy: 0.8497\n",
      "Epoch 28/50\n",
      "9819/9819 - 5s - loss: 0.2977 - accuracy: 0.8718 - val_loss: 0.3554 - val_accuracy: 0.8518\n",
      "Epoch 29/50\n",
      "9819/9819 - 5s - loss: 0.2968 - accuracy: 0.8724 - val_loss: 0.3557 - val_accuracy: 0.8537\n",
      "Epoch 30/50\n",
      "9819/9819 - 5s - loss: 0.2959 - accuracy: 0.8728 - val_loss: 0.3557 - val_accuracy: 0.8493\n",
      "Epoch 31/50\n",
      "9819/9819 - 5s - loss: 0.2950 - accuracy: 0.8734 - val_loss: 0.3550 - val_accuracy: 0.8532\n",
      "Epoch 32/50\n",
      "9819/9819 - 5s - loss: 0.2942 - accuracy: 0.8738 - val_loss: 0.3549 - val_accuracy: 0.8525\n",
      "Epoch 33/50\n",
      "9819/9819 - 5s - loss: 0.2933 - accuracy: 0.8746 - val_loss: 0.3549 - val_accuracy: 0.8535\n",
      "Epoch 34/50\n",
      "9819/9819 - 5s - loss: 0.2926 - accuracy: 0.8743 - val_loss: 0.3550 - val_accuracy: 0.8525\n",
      "Epoch 35/50\n",
      "9819/9819 - 5s - loss: 0.2917 - accuracy: 0.8749 - val_loss: 0.3561 - val_accuracy: 0.8514\n",
      "Epoch 36/50\n",
      "9819/9819 - 5s - loss: 0.2908 - accuracy: 0.8749 - val_loss: 0.3558 - val_accuracy: 0.8519\n",
      "Epoch 37/50\n",
      "9819/9819 - 5s - loss: 0.2901 - accuracy: 0.8761 - val_loss: 0.3562 - val_accuracy: 0.8520\n",
      "Epoch 38/50\n",
      "9819/9819 - 5s - loss: 0.2895 - accuracy: 0.8759 - val_loss: 0.3560 - val_accuracy: 0.8524\n",
      "Epoch 39/50\n",
      "9819/9819 - 5s - loss: 0.2888 - accuracy: 0.8762 - val_loss: 0.3567 - val_accuracy: 0.8531\n",
      "Epoch 40/50\n",
      "9819/9819 - 5s - loss: 0.2881 - accuracy: 0.8768 - val_loss: 0.3569 - val_accuracy: 0.8524\n",
      "Epoch 41/50\n",
      "9819/9819 - 5s - loss: 0.2875 - accuracy: 0.8769 - val_loss: 0.3566 - val_accuracy: 0.8521\n",
      "Epoch 42/50\n",
      "9819/9819 - 5s - loss: 0.2869 - accuracy: 0.8771 - val_loss: 0.3568 - val_accuracy: 0.8540\n",
      "Epoch 43/50\n",
      "9819/9819 - 5s - loss: 0.2863 - accuracy: 0.8772 - val_loss: 0.3568 - val_accuracy: 0.8526\n",
      "Epoch 44/50\n",
      "9819/9819 - 5s - loss: 0.2856 - accuracy: 0.8777 - val_loss: 0.3567 - val_accuracy: 0.8529\n",
      "Epoch 45/50\n",
      "9819/9819 - 5s - loss: 0.2850 - accuracy: 0.8780 - val_loss: 0.3574 - val_accuracy: 0.8512\n",
      "Epoch 46/50\n",
      "9819/9819 - 5s - loss: 0.2845 - accuracy: 0.8785 - val_loss: 0.3569 - val_accuracy: 0.8526\n",
      "Epoch 47/50\n",
      "9819/9819 - 5s - loss: 0.2839 - accuracy: 0.8785 - val_loss: 0.3578 - val_accuracy: 0.8535\n",
      "Epoch 48/50\n",
      "9819/9819 - 5s - loss: 0.2834 - accuracy: 0.8783 - val_loss: 0.3570 - val_accuracy: 0.8526\n",
      "Epoch 49/50\n",
      "9819/9819 - 5s - loss: 0.2829 - accuracy: 0.8791 - val_loss: 0.3575 - val_accuracy: 0.8533\n",
      "Epoch 50/50\n",
      "9819/9819 - 5s - loss: 0.2823 - accuracy: 0.8797 - val_loss: 0.3575 - val_accuracy: 0.8533\n"
     ]
    },
    {
     "data": {
      "text/plain": [
       "<tensorflow.python.keras.callbacks.History at 0x7f3d238d4700>"
      ]
     },
     "execution_count": 135,
     "metadata": {},
     "output_type": "execute_result"
    }
   ],
   "source": [
    "model.fit(x=X_train, y=Y_train, validation_split=0.1, batch_size=10, epochs=50, verbose=2)"
   ]
  },
  {
   "cell_type": "code",
   "execution_count": 136,
   "id": "likely-discovery",
   "metadata": {},
   "outputs": [
    {
     "data": {
      "text/plain": [
       "array([[0.05546131, 0.9445387 ],\n",
       "       [0.9964223 , 0.0035777 ],\n",
       "       [0.6444658 , 0.3555342 ],\n",
       "       ...,\n",
       "       [0.9139584 , 0.08604164],\n",
       "       [0.94548804, 0.05451203],\n",
       "       [0.9695758 , 0.03042417]], dtype=float32)"
      ]
     },
     "execution_count": 136,
     "metadata": {},
     "output_type": "execute_result"
    }
   ],
   "source": [
    "predicted_values = model.predict(X_test)\n",
    "predicted_values"
   ]
  },
  {
   "cell_type": "code",
   "execution_count": 137,
   "id": "demanding-mills",
   "metadata": {},
   "outputs": [
    {
     "data": {
      "text/plain": [
       "array([1, 0, 0, ..., 0, 0, 0])"
      ]
     },
     "execution_count": 137,
     "metadata": {},
     "output_type": "execute_result"
    }
   ],
   "source": [
    "predicted_values = np.argmax(predicted_values, axis=-1)\n",
    "predicted_values"
   ]
  },
  {
   "cell_type": "code",
   "execution_count": 138,
   "id": "ranging-oxygen",
   "metadata": {},
   "outputs": [
    {
     "data": {
      "image/png": "[encoded data removed]",
      "text/plain": [
       "<Figure size 432x288 with 1 Axes>"
      ]
     },
     "metadata": {
      "needs_background": "light"
     },
     "output_type": "display_data"
    }
   ],
   "source": [
    "conf_mat = confusion_matrix(Y_test, predicted_values)\n",
    "conf_mat_df = pd.DataFrame(conf_mat, index=['No', 'Yes'], columns=['No', 'Yes'])\n",
    "cmap = sns.cubehelix_palette(light=1, as_cmap=True)\n",
    "h_map = sns.heatmap(conf_mat, cbar=False, annot=True, fmt='d')\n",
    "h_map.invert_xaxis()\n",
    "h_map.invert_yaxis()"
   ]
  },
  {
   "cell_type": "code",
   "execution_count": 139,
   "id": "worst-seattle",
   "metadata": {},
   "outputs": [
    {
     "name": "stdout",
     "output_type": "stream",
     "text": [
      "              precision    recall  f1-score   support\n",
      "\n",
      "           0       0.89      0.93      0.91     28400\n",
      "           1       0.71      0.59      0.64      7965\n",
      "\n",
      "    accuracy                           0.86     36365\n",
      "   macro avg       0.80      0.76      0.78     36365\n",
      "weighted avg       0.85      0.86      0.85     36365\n",
      "\n"
     ]
    }
   ],
   "source": [
    "class_report = classification_report(Y_test, predicted_values)\n",
    "print(class_report)"
   ]
  },
  {
   "cell_type": "code",
   "execution_count": 140,
   "id": "entire-emission",
   "metadata": {},
   "outputs": [
    {
     "data": {
      "text/plain": [
       "0.8568128695173931"
      ]
     },
     "execution_count": 140,
     "metadata": {},
     "output_type": "execute_result"
    }
   ],
   "source": [
    "accuracy = accuracy_score(Y_test, predicted_values)\n",
    "accuracy"
   ]
  },
  {
   "cell_type": "markdown",
   "id": "color-toilet",
   "metadata": {},
   "source": [
    "### Da li se menja situacija dodavanjem još jednog skrivenog sloja?"
   ]
  },
  {
   "cell_type": "code",
   "execution_count": 48,
   "id": "divine-marine",
   "metadata": {},
   "outputs": [],
   "source": [
    "model = Sequential([\n",
    "    Dense(units=8, input_shape=(3551, ), activation='relu'),\n",
    "    Dense(units=16, activation='relu'),\n",
    "    Dense(units=2, activation='softmax')\n",
    "])"
   ]
  },
  {
   "cell_type": "code",
   "execution_count": 49,
   "id": "characteristic-girlfriend",
   "metadata": {},
   "outputs": [],
   "source": [
    "model.compile(optimizer=Adam(learning_rate=0.0001), loss='sparse_categorical_crossentropy', metrics=['accuracy'])"
   ]
  },
  {
   "cell_type": "code",
   "execution_count": 50,
   "id": "circular-demonstration",
   "metadata": {},
   "outputs": [
    {
     "name": "stdout",
     "output_type": "stream",
     "text": [
      "Epoch 1/50\n",
      "9819/9819 - 6s - loss: 0.4205 - accuracy: 0.8151 - val_loss: 0.3705 - val_accuracy: 0.8359\n",
      "Epoch 2/50\n",
      "9819/9819 - 5s - loss: 0.3518 - accuracy: 0.8467 - val_loss: 0.3535 - val_accuracy: 0.8459\n",
      "Epoch 3/50\n",
      "9819/9819 - 5s - loss: 0.3364 - accuracy: 0.8535 - val_loss: 0.3510 - val_accuracy: 0.8455\n",
      "Epoch 4/50\n",
      "9819/9819 - 5s - loss: 0.3299 - accuracy: 0.8559 - val_loss: 0.3525 - val_accuracy: 0.8456\n",
      "Epoch 5/50\n",
      "9819/9819 - 5s - loss: 0.3270 - accuracy: 0.8577 - val_loss: 0.3575 - val_accuracy: 0.8460\n",
      "Epoch 6/50\n",
      "9819/9819 - 5s - loss: 0.3253 - accuracy: 0.8586 - val_loss: 0.3556 - val_accuracy: 0.8465\n",
      "Epoch 7/50\n",
      "9819/9819 - 5s - loss: 0.3245 - accuracy: 0.8592 - val_loss: 0.3564 - val_accuracy: 0.8446\n",
      "Epoch 8/50\n",
      "9819/9819 - 5s - loss: 0.3236 - accuracy: 0.8597 - val_loss: 0.3610 - val_accuracy: 0.8452\n",
      "Epoch 9/50\n",
      "9819/9819 - 5s - loss: 0.3233 - accuracy: 0.8595 - val_loss: 0.3585 - val_accuracy: 0.8461\n",
      "Epoch 10/50\n",
      "9819/9819 - 5s - loss: 0.3227 - accuracy: 0.8600 - val_loss: 0.3590 - val_accuracy: 0.8453\n",
      "Epoch 11/50\n",
      "9819/9819 - 6s - loss: 0.3222 - accuracy: 0.8604 - val_loss: 0.3586 - val_accuracy: 0.8462\n",
      "Epoch 12/50\n",
      "9819/9819 - 6s - loss: 0.3219 - accuracy: 0.8602 - val_loss: 0.3596 - val_accuracy: 0.8466\n",
      "Epoch 13/50\n",
      "9819/9819 - 5s - loss: 0.3214 - accuracy: 0.8599 - val_loss: 0.3614 - val_accuracy: 0.8434\n",
      "Epoch 14/50\n",
      "9819/9819 - 5s - loss: 0.3206 - accuracy: 0.8611 - val_loss: 0.3589 - val_accuracy: 0.8456\n",
      "Epoch 15/50\n",
      "9819/9819 - 5s - loss: 0.3198 - accuracy: 0.8604 - val_loss: 0.3586 - val_accuracy: 0.8459\n",
      "Epoch 16/50\n",
      "9819/9819 - 5s - loss: 0.3185 - accuracy: 0.8613 - val_loss: 0.3606 - val_accuracy: 0.8441\n",
      "Epoch 17/50\n",
      "9819/9819 - 5s - loss: 0.3171 - accuracy: 0.8617 - val_loss: 0.3595 - val_accuracy: 0.8467\n",
      "Epoch 18/50\n",
      "9819/9819 - 5s - loss: 0.3156 - accuracy: 0.8617 - val_loss: 0.3607 - val_accuracy: 0.8473\n",
      "Epoch 19/50\n",
      "9819/9819 - 5s - loss: 0.3135 - accuracy: 0.8626 - val_loss: 0.3586 - val_accuracy: 0.8469\n",
      "Epoch 20/50\n",
      "9819/9819 - 5s - loss: 0.3111 - accuracy: 0.8632 - val_loss: 0.3584 - val_accuracy: 0.8481\n",
      "Epoch 21/50\n",
      "9819/9819 - 5s - loss: 0.3085 - accuracy: 0.8646 - val_loss: 0.3569 - val_accuracy: 0.8487\n",
      "Epoch 22/50\n",
      "9819/9819 - 5s - loss: 0.3056 - accuracy: 0.8664 - val_loss: 0.3565 - val_accuracy: 0.8479\n",
      "Epoch 23/50\n",
      "9819/9819 - 5s - loss: 0.3029 - accuracy: 0.8672 - val_loss: 0.3579 - val_accuracy: 0.8493\n",
      "Epoch 24/50\n",
      "9819/9819 - 5s - loss: 0.3000 - accuracy: 0.8689 - val_loss: 0.3583 - val_accuracy: 0.8463\n",
      "Epoch 25/50\n",
      "9819/9819 - 5s - loss: 0.2972 - accuracy: 0.8699 - val_loss: 0.3557 - val_accuracy: 0.8494\n",
      "Epoch 26/50\n",
      "9819/9819 - 5s - loss: 0.2939 - accuracy: 0.8718 - val_loss: 0.3561 - val_accuracy: 0.8481\n",
      "Epoch 27/50\n",
      "9819/9819 - 5s - loss: 0.2913 - accuracy: 0.8738 - val_loss: 0.3564 - val_accuracy: 0.8493\n",
      "Epoch 28/50\n",
      "9819/9819 - 5s - loss: 0.2884 - accuracy: 0.8751 - val_loss: 0.3543 - val_accuracy: 0.8497\n",
      "Epoch 29/50\n",
      "9819/9819 - 5s - loss: 0.2856 - accuracy: 0.8766 - val_loss: 0.3546 - val_accuracy: 0.8509\n",
      "Epoch 30/50\n",
      "9819/9819 - 5s - loss: 0.2829 - accuracy: 0.8775 - val_loss: 0.3543 - val_accuracy: 0.8515\n",
      "Epoch 31/50\n",
      "9819/9819 - 5s - loss: 0.2803 - accuracy: 0.8794 - val_loss: 0.3575 - val_accuracy: 0.8517\n",
      "Epoch 32/50\n",
      "9819/9819 - 5s - loss: 0.2777 - accuracy: 0.8808 - val_loss: 0.3545 - val_accuracy: 0.8523\n",
      "Epoch 33/50\n",
      "9819/9819 - 5s - loss: 0.2753 - accuracy: 0.8822 - val_loss: 0.3594 - val_accuracy: 0.8504\n",
      "Epoch 34/50\n",
      "9819/9819 - 5s - loss: 0.2730 - accuracy: 0.8829 - val_loss: 0.3560 - val_accuracy: 0.8516\n",
      "Epoch 35/50\n",
      "9819/9819 - 5s - loss: 0.2708 - accuracy: 0.8840 - val_loss: 0.3572 - val_accuracy: 0.8533\n",
      "Epoch 36/50\n",
      "9819/9819 - 5s - loss: 0.2687 - accuracy: 0.8848 - val_loss: 0.3605 - val_accuracy: 0.8528\n",
      "Epoch 37/50\n",
      "9819/9819 - 5s - loss: 0.2667 - accuracy: 0.8861 - val_loss: 0.3582 - val_accuracy: 0.8544\n",
      "Epoch 38/50\n",
      "9819/9819 - 5s - loss: 0.2646 - accuracy: 0.8873 - val_loss: 0.3612 - val_accuracy: 0.8535\n",
      "Epoch 39/50\n",
      "9819/9819 - 5s - loss: 0.2626 - accuracy: 0.8881 - val_loss: 0.3581 - val_accuracy: 0.8536\n",
      "Epoch 40/50\n",
      "9819/9819 - 5s - loss: 0.2608 - accuracy: 0.8887 - val_loss: 0.3588 - val_accuracy: 0.8536\n",
      "Epoch 41/50\n",
      "9819/9819 - 5s - loss: 0.2590 - accuracy: 0.8900 - val_loss: 0.3601 - val_accuracy: 0.8524\n",
      "Epoch 42/50\n",
      "9819/9819 - 5s - loss: 0.2573 - accuracy: 0.8906 - val_loss: 0.3612 - val_accuracy: 0.8544\n",
      "Epoch 43/50\n",
      "9819/9819 - 5s - loss: 0.2555 - accuracy: 0.8918 - val_loss: 0.3627 - val_accuracy: 0.8524\n",
      "Epoch 44/50\n",
      "9819/9819 - 5s - loss: 0.2539 - accuracy: 0.8927 - val_loss: 0.3638 - val_accuracy: 0.8533\n",
      "Epoch 45/50\n",
      "9819/9819 - 5s - loss: 0.2522 - accuracy: 0.8937 - val_loss: 0.3641 - val_accuracy: 0.8544\n",
      "Epoch 46/50\n",
      "9819/9819 - 5s - loss: 0.2508 - accuracy: 0.8940 - val_loss: 0.3647 - val_accuracy: 0.8538\n",
      "Epoch 47/50\n",
      "9819/9819 - 5s - loss: 0.2491 - accuracy: 0.8951 - val_loss: 0.3637 - val_accuracy: 0.8559\n",
      "Epoch 48/50\n",
      "9819/9819 - 5s - loss: 0.2478 - accuracy: 0.8951 - val_loss: 0.3677 - val_accuracy: 0.8543\n",
      "Epoch 49/50\n",
      "9819/9819 - 5s - loss: 0.2464 - accuracy: 0.8960 - val_loss: 0.3689 - val_accuracy: 0.8534\n",
      "Epoch 50/50\n",
      "9819/9819 - 5s - loss: 0.2450 - accuracy: 0.8970 - val_loss: 0.3689 - val_accuracy: 0.8523\n"
     ]
    },
    {
     "data": {
      "text/plain": [
       "<tensorflow.python.keras.callbacks.History at 0x7f71b3d0b790>"
      ]
     },
     "execution_count": 50,
     "metadata": {},
     "output_type": "execute_result"
    }
   ],
   "source": [
    "model.fit(x=X_train, y=Y_train, validation_split=0.1, batch_size=10, epochs=50, verbose=2)"
   ]
  },
  {
   "cell_type": "code",
   "execution_count": 51,
   "id": "promising-publisher",
   "metadata": {},
   "outputs": [
    {
     "data": {
      "text/plain": [
       "array([[9.9047381e-01, 9.5261652e-03],\n",
       "       [2.9253051e-01, 7.0746958e-01],\n",
       "       [9.7997916e-01, 2.0020863e-02],\n",
       "       ...,\n",
       "       [3.0898488e-01, 6.9101506e-01],\n",
       "       [9.9999988e-01, 1.6903762e-07],\n",
       "       [9.9976617e-01, 2.3379830e-04]], dtype=float32)"
      ]
     },
     "execution_count": 51,
     "metadata": {},
     "output_type": "execute_result"
    }
   ],
   "source": [
    "predicted_values = model.predict(X_test)\n",
    "predicted_values"
   ]
  },
  {
   "cell_type": "code",
   "execution_count": 52,
   "id": "alleged-diamond",
   "metadata": {},
   "outputs": [
    {
     "data": {
      "text/plain": [
       "array([0, 1, 0, ..., 1, 0, 0])"
      ]
     },
     "execution_count": 52,
     "metadata": {},
     "output_type": "execute_result"
    }
   ],
   "source": [
    "predicted_values = np.argmax(predicted_values, axis=-1)\n",
    "predicted_values"
   ]
  },
  {
   "cell_type": "code",
   "execution_count": 53,
   "id": "signal-nirvana",
   "metadata": {},
   "outputs": [
    {
     "data": {
      "image/png": "[encoded data removed]",
      "text/plain": [
       "<Figure size 432x288 with 1 Axes>"
      ]
     },
     "metadata": {
      "needs_background": "light"
     },
     "output_type": "display_data"
    }
   ],
   "source": [
    "conf_mat = confusion_matrix(Y_test, predicted_values)\n",
    "conf_mat_df = pd.DataFrame(conf_mat, index=['No', 'Yes'], columns=['No', 'Yes'])\n",
    "cmap = sns.cubehelix_palette(light=1, as_cmap=True)\n",
    "h_map = sns.heatmap(conf_mat, cbar=False, annot=True, fmt='d')\n",
    "h_map.invert_xaxis()\n",
    "h_map.invert_yaxis()"
   ]
  },
  {
   "cell_type": "code",
   "execution_count": 54,
   "id": "atmospheric-pepper",
   "metadata": {},
   "outputs": [
    {
     "name": "stdout",
     "output_type": "stream",
     "text": [
      "              precision    recall  f1-score   support\n",
      "\n",
      "           0       0.90      0.92      0.91     28483\n",
      "           1       0.68      0.62      0.65      7882\n",
      "\n",
      "    accuracy                           0.85     36365\n",
      "   macro avg       0.79      0.77      0.78     36365\n",
      "weighted avg       0.85      0.85      0.85     36365\n",
      "\n"
     ]
    }
   ],
   "source": [
    "class_report = classification_report(Y_test, predicted_values)\n",
    "print(class_report)"
   ]
  },
  {
   "cell_type": "code",
   "execution_count": 55,
   "id": "spectacular-ensemble",
   "metadata": {},
   "outputs": [
    {
     "data": {
      "text/plain": [
       "0.8541729685136807"
      ]
     },
     "execution_count": 55,
     "metadata": {},
     "output_type": "execute_result"
    }
   ],
   "source": [
    "accuracy = accuracy_score(Y_test, predicted_values)\n",
    "accuracy"
   ]
  },
  {
   "cell_type": "markdown",
   "id": "filled-tractor",
   "metadata": {},
   "source": [
    "### Rešiti problem loše balansiranosti skupa"
   ]
  },
  {
   "cell_type": "code",
   "execution_count": 41,
   "id": "baking-shareware",
   "metadata": {},
   "outputs": [],
   "source": [
    "random_over_sampler = RandomOverSampler(random_state=0)\n",
    "X_oversampled, Y_oversampled = random_over_sampler.fit_resample(df.drop('RainTomorrow', axis=1), df['RainTomorrow'])"
   ]
  },
  {
   "cell_type": "code",
   "execution_count": 42,
   "id": "billion-alabama",
   "metadata": {},
   "outputs": [
    {
     "data": {
      "text/plain": [
       "[(0, 113583), (1, 113583)]"
      ]
     },
     "execution_count": 42,
     "metadata": {},
     "output_type": "execute_result"
    }
   ],
   "source": [
    "from collections import Counter\n",
    "\n",
    "counter = Counter(Y_oversampled.values)\n",
    "counter.most_common()"
   ]
  },
  {
   "cell_type": "code",
   "execution_count": 43,
   "id": "exempt-negative",
   "metadata": {},
   "outputs": [],
   "source": [
    "df_balanced = pd.DataFrame(X_oversampled.values, columns=X_oversampled.columns)"
   ]
  },
  {
   "cell_type": "code",
   "execution_count": 44,
   "id": "alternate-cable",
   "metadata": {},
   "outputs": [],
   "source": [
    "df_balanced['RainTomorrow'] = Y_oversampled "
   ]
  },
  {
   "cell_type": "markdown",
   "id": "faced-reputation",
   "metadata": {},
   "source": [
    "### Pre mapiranja vrednosti kategoričkih atributa u numeričke vrednosti (obučavanje neuronske mreže samo sa numeričkim atributima)"
   ]
  },
  {
   "cell_type": "code",
   "execution_count": 45,
   "id": "built-installation",
   "metadata": {},
   "outputs": [],
   "source": [
    "# konvertovati sve numericke kolone u tip 'float64' (nakon promene algoritma za oversampling tipovi numerickih...\n",
    "# kolona su iz nekog razloga konvertovani u object)\n",
    "\n",
    "for feature in numerical:\n",
    "    df_balanced[feature] = df_balanced[feature].astype('float64')"
   ]
  },
  {
   "cell_type": "code",
   "execution_count": 61,
   "id": "prepared-concentrate",
   "metadata": {},
   "outputs": [],
   "source": [
    "X_train, X_test, Y_train, Y_test = train_test_split(df_balanced[numerical], df_balanced['RainTomorrow'])"
   ]
  },
  {
   "cell_type": "code",
   "execution_count": 62,
   "id": "steady-ordinance",
   "metadata": {},
   "outputs": [],
   "source": [
    "X_train, Y_train = shuffle(X_train, Y_train)"
   ]
  },
  {
   "cell_type": "code",
   "execution_count": 63,
   "id": "violent-cuisine",
   "metadata": {},
   "outputs": [
    {
     "data": {
      "text/plain": [
       "(170374, 16)"
      ]
     },
     "execution_count": 63,
     "metadata": {},
     "output_type": "execute_result"
    }
   ],
   "source": [
    "X_train.shape"
   ]
  },
  {
   "cell_type": "code",
   "execution_count": 64,
   "id": "eight-lawyer",
   "metadata": {},
   "outputs": [],
   "source": [
    "model = Sequential([\n",
    "    Dense(units=8, input_shape=(16, ), activation='relu'),\n",
    "    Dense(units=2, activation='softmax')\n",
    "])"
   ]
  },
  {
   "cell_type": "code",
   "execution_count": 65,
   "id": "legitimate-harrison",
   "metadata": {},
   "outputs": [],
   "source": [
    "model.compile(optimizer=Adam(learning_rate=0.0001), loss='sparse_categorical_crossentropy', metrics=['accuracy'])"
   ]
  },
  {
   "cell_type": "code",
   "execution_count": 74,
   "id": "curious-russia",
   "metadata": {},
   "outputs": [
    {
     "name": "stdout",
     "output_type": "stream",
     "text": [
      "Epoch 1/50\n",
      "15334/15334 - 5s - loss: 0.4845 - accuracy: 0.7661 - val_loss: 0.4864 - val_accuracy: 0.7608\n",
      "Epoch 2/50\n",
      "15334/15334 - 5s - loss: 0.4792 - accuracy: 0.7681 - val_loss: 0.4839 - val_accuracy: 0.7626\n",
      "Epoch 3/50\n",
      "15334/15334 - 5s - loss: 0.4770 - accuracy: 0.7690 - val_loss: 0.4825 - val_accuracy: 0.7650\n",
      "Epoch 4/50\n",
      "15334/15334 - 5s - loss: 0.4757 - accuracy: 0.7702 - val_loss: 0.4812 - val_accuracy: 0.7653\n",
      "Epoch 5/50\n",
      "15334/15334 - 5s - loss: 0.4748 - accuracy: 0.7705 - val_loss: 0.4803 - val_accuracy: 0.7658\n",
      "Epoch 6/50\n",
      "15334/15334 - 5s - loss: 0.4740 - accuracy: 0.7714 - val_loss: 0.4795 - val_accuracy: 0.7666\n",
      "Epoch 7/50\n",
      "15334/15334 - 5s - loss: 0.4734 - accuracy: 0.7719 - val_loss: 0.4789 - val_accuracy: 0.7672\n",
      "Epoch 8/50\n",
      "15334/15334 - 5s - loss: 0.4728 - accuracy: 0.7718 - val_loss: 0.4793 - val_accuracy: 0.7665\n",
      "Epoch 9/50\n",
      "15334/15334 - 5s - loss: 0.4723 - accuracy: 0.7725 - val_loss: 0.4778 - val_accuracy: 0.7679\n",
      "Epoch 10/50\n",
      "15334/15334 - 5s - loss: 0.4718 - accuracy: 0.7727 - val_loss: 0.4773 - val_accuracy: 0.7681\n",
      "Epoch 11/50\n",
      "15334/15334 - 5s - loss: 0.4716 - accuracy: 0.7728 - val_loss: 0.4772 - val_accuracy: 0.7695\n",
      "Epoch 12/50\n",
      "15334/15334 - 5s - loss: 0.4713 - accuracy: 0.7727 - val_loss: 0.4767 - val_accuracy: 0.7682\n",
      "Epoch 13/50\n",
      "15334/15334 - 5s - loss: 0.4710 - accuracy: 0.7731 - val_loss: 0.4763 - val_accuracy: 0.7689\n",
      "Epoch 14/50\n",
      "15334/15334 - 5s - loss: 0.4707 - accuracy: 0.7731 - val_loss: 0.4760 - val_accuracy: 0.7691\n",
      "Epoch 15/50\n",
      "15334/15334 - 5s - loss: 0.4704 - accuracy: 0.7734 - val_loss: 0.4757 - val_accuracy: 0.7696\n",
      "Epoch 16/50\n",
      "15334/15334 - 5s - loss: 0.4703 - accuracy: 0.7736 - val_loss: 0.4760 - val_accuracy: 0.7680\n",
      "Epoch 17/50\n",
      "15334/15334 - 5s - loss: 0.4701 - accuracy: 0.7738 - val_loss: 0.4752 - val_accuracy: 0.7701\n",
      "Epoch 18/50\n",
      "15334/15334 - 5s - loss: 0.4698 - accuracy: 0.7741 - val_loss: 0.4750 - val_accuracy: 0.7692\n",
      "Epoch 19/50\n",
      "15334/15334 - 5s - loss: 0.4697 - accuracy: 0.7739 - val_loss: 0.4749 - val_accuracy: 0.7703\n",
      "Epoch 20/50\n",
      "15334/15334 - 5s - loss: 0.4695 - accuracy: 0.7744 - val_loss: 0.4753 - val_accuracy: 0.7685\n",
      "Epoch 21/50\n",
      "15334/15334 - 5s - loss: 0.4694 - accuracy: 0.7739 - val_loss: 0.4744 - val_accuracy: 0.7700\n",
      "Epoch 22/50\n",
      "15334/15334 - 5s - loss: 0.4691 - accuracy: 0.7750 - val_loss: 0.4745 - val_accuracy: 0.7697\n",
      "Epoch 23/50\n",
      "15334/15334 - 5s - loss: 0.4690 - accuracy: 0.7747 - val_loss: 0.4741 - val_accuracy: 0.7697\n",
      "Epoch 24/50\n",
      "15334/15334 - 5s - loss: 0.4688 - accuracy: 0.7747 - val_loss: 0.4738 - val_accuracy: 0.7705\n",
      "Epoch 25/50\n",
      "15334/15334 - 5s - loss: 0.4687 - accuracy: 0.7748 - val_loss: 0.4753 - val_accuracy: 0.7703\n",
      "Epoch 26/50\n",
      "15334/15334 - 5s - loss: 0.4686 - accuracy: 0.7749 - val_loss: 0.4734 - val_accuracy: 0.7710\n",
      "Epoch 27/50\n",
      "15334/15334 - 5s - loss: 0.4683 - accuracy: 0.7752 - val_loss: 0.4733 - val_accuracy: 0.7713\n",
      "Epoch 28/50\n",
      "15334/15334 - 5s - loss: 0.4682 - accuracy: 0.7750 - val_loss: 0.4734 - val_accuracy: 0.7708\n",
      "Epoch 29/50\n",
      "15334/15334 - 5s - loss: 0.4681 - accuracy: 0.7752 - val_loss: 0.4737 - val_accuracy: 0.7703\n",
      "Epoch 30/50\n",
      "15334/15334 - 5s - loss: 0.4680 - accuracy: 0.7752 - val_loss: 0.4728 - val_accuracy: 0.7709\n",
      "Epoch 31/50\n",
      "15334/15334 - 5s - loss: 0.4677 - accuracy: 0.7756 - val_loss: 0.4728 - val_accuracy: 0.7713\n",
      "Epoch 32/50\n",
      "15334/15334 - 5s - loss: 0.4676 - accuracy: 0.7757 - val_loss: 0.4725 - val_accuracy: 0.7709\n",
      "Epoch 33/50\n",
      "15334/15334 - 5s - loss: 0.4675 - accuracy: 0.7758 - val_loss: 0.4724 - val_accuracy: 0.7707\n",
      "Epoch 34/50\n",
      "15334/15334 - 5s - loss: 0.4673 - accuracy: 0.7756 - val_loss: 0.4723 - val_accuracy: 0.7716\n",
      "Epoch 35/50\n",
      "15334/15334 - 5s - loss: 0.4673 - accuracy: 0.7757 - val_loss: 0.4721 - val_accuracy: 0.7717\n",
      "Epoch 36/50\n",
      "15334/15334 - 5s - loss: 0.4671 - accuracy: 0.7759 - val_loss: 0.4719 - val_accuracy: 0.7719\n",
      "Epoch 37/50\n",
      "15334/15334 - 5s - loss: 0.4669 - accuracy: 0.7758 - val_loss: 0.4718 - val_accuracy: 0.7715\n",
      "Epoch 38/50\n",
      "15334/15334 - 5s - loss: 0.4668 - accuracy: 0.7762 - val_loss: 0.4717 - val_accuracy: 0.7722\n",
      "Epoch 39/50\n",
      "15334/15334 - 5s - loss: 0.4667 - accuracy: 0.7761 - val_loss: 0.4715 - val_accuracy: 0.7723\n",
      "Epoch 40/50\n",
      "15334/15334 - 5s - loss: 0.4665 - accuracy: 0.7762 - val_loss: 0.4714 - val_accuracy: 0.7726\n",
      "Epoch 41/50\n",
      "15334/15334 - 5s - loss: 0.4664 - accuracy: 0.7761 - val_loss: 0.4712 - val_accuracy: 0.7728\n",
      "Epoch 42/50\n",
      "15334/15334 - 5s - loss: 0.4662 - accuracy: 0.7768 - val_loss: 0.4718 - val_accuracy: 0.7717\n",
      "Epoch 43/50\n",
      "15334/15334 - 5s - loss: 0.4662 - accuracy: 0.7761 - val_loss: 0.4713 - val_accuracy: 0.7722\n",
      "Epoch 44/50\n",
      "15334/15334 - 5s - loss: 0.4661 - accuracy: 0.7762 - val_loss: 0.4711 - val_accuracy: 0.7715\n",
      "Epoch 45/50\n",
      "15334/15334 - 5s - loss: 0.4659 - accuracy: 0.7766 - val_loss: 0.4708 - val_accuracy: 0.7733\n",
      "Epoch 46/50\n",
      "15334/15334 - 5s - loss: 0.4658 - accuracy: 0.7769 - val_loss: 0.4707 - val_accuracy: 0.7730\n",
      "Epoch 47/50\n",
      "15334/15334 - 5s - loss: 0.4656 - accuracy: 0.7767 - val_loss: 0.4705 - val_accuracy: 0.7734\n",
      "Epoch 48/50\n",
      "15334/15334 - 5s - loss: 0.4655 - accuracy: 0.7770 - val_loss: 0.4710 - val_accuracy: 0.7724\n",
      "Epoch 49/50\n",
      "15334/15334 - 5s - loss: 0.4654 - accuracy: 0.7771 - val_loss: 0.4703 - val_accuracy: 0.7737\n",
      "Epoch 50/50\n",
      "15334/15334 - 5s - loss: 0.4653 - accuracy: 0.7769 - val_loss: 0.4701 - val_accuracy: 0.7735\n"
     ]
    },
    {
     "data": {
      "text/plain": [
       "<tensorflow.python.keras.callbacks.History at 0x7f709f515e20>"
      ]
     },
     "execution_count": 74,
     "metadata": {},
     "output_type": "execute_result"
    }
   ],
   "source": [
    "model.fit(x=X_train, y=Y_train, validation_split=0.1, batch_size=10, epochs=50, verbose=2)"
   ]
  },
  {
   "cell_type": "code",
   "execution_count": 75,
   "id": "consolidated-channel",
   "metadata": {},
   "outputs": [
    {
     "data": {
      "text/plain": [
       "array([[0.53460985, 0.4653902 ],\n",
       "       [0.2513434 , 0.7486566 ],\n",
       "       [0.41753247, 0.5824675 ],\n",
       "       ...,\n",
       "       [0.54202664, 0.45797336],\n",
       "       [0.80722386, 0.19277613],\n",
       "       [0.9257235 , 0.07427649]], dtype=float32)"
      ]
     },
     "execution_count": 75,
     "metadata": {},
     "output_type": "execute_result"
    }
   ],
   "source": [
    "predicted_values = model.predict(X_test)\n",
    "predicted_values"
   ]
  },
  {
   "cell_type": "code",
   "execution_count": 76,
   "id": "running-investing",
   "metadata": {},
   "outputs": [
    {
     "data": {
      "text/plain": [
       "array([0, 1, 1, ..., 0, 0, 0])"
      ]
     },
     "execution_count": 76,
     "metadata": {},
     "output_type": "execute_result"
    }
   ],
   "source": [
    "predicted_values = np.argmax(predicted_values, axis=-1)\n",
    "predicted_values"
   ]
  },
  {
   "cell_type": "code",
   "execution_count": 77,
   "id": "eight-giving",
   "metadata": {},
   "outputs": [
    {
     "data": {
      "image/png": "[encoded data removed]",
      "text/plain": [
       "<Figure size 432x288 with 1 Axes>"
      ]
     },
     "metadata": {
      "needs_background": "light"
     },
     "output_type": "display_data"
    }
   ],
   "source": [
    "conf_mat = confusion_matrix(Y_test, predicted_values)\n",
    "conf_mat_df = pd.DataFrame(conf_mat, index=['No', 'Yes'], columns=['No', 'Yes'])\n",
    "cmap = sns.cubehelix_palette(light=1, as_cmap=True)\n",
    "h_map = sns.heatmap(conf_mat, cbar=False, annot=True, fmt='d')\n",
    "h_map.invert_xaxis()\n",
    "h_map.invert_yaxis()"
   ]
  },
  {
   "cell_type": "code",
   "execution_count": 78,
   "id": "agricultural-saudi",
   "metadata": {},
   "outputs": [
    {
     "name": "stdout",
     "output_type": "stream",
     "text": [
      "              precision    recall  f1-score   support\n",
      "\n",
      "           0       0.78      0.78      0.78     28637\n",
      "           1       0.78      0.78      0.78     28155\n",
      "\n",
      "    accuracy                           0.78     56792\n",
      "   macro avg       0.78      0.78      0.78     56792\n",
      "weighted avg       0.78      0.78      0.78     56792\n",
      "\n"
     ]
    }
   ],
   "source": [
    "class_report = classification_report(Y_test, predicted_values)\n",
    "print(class_report)"
   ]
  },
  {
   "cell_type": "code",
   "execution_count": 79,
   "id": "incomplete-bridge",
   "metadata": {},
   "outputs": [
    {
     "data": {
      "text/plain": [
       "0.7801098746302296"
      ]
     },
     "execution_count": 79,
     "metadata": {},
     "output_type": "execute_result"
    }
   ],
   "source": [
    "accuracy = accuracy_score(Y_test, predicted_values)\n",
    "accuracy"
   ]
  },
  {
   "cell_type": "markdown",
   "id": "committed-choice",
   "metadata": {},
   "source": [
    "### Nakon dodavanja još jednog skrivenog sloja"
   ]
  },
  {
   "cell_type": "code",
   "execution_count": 80,
   "id": "material-pontiac",
   "metadata": {},
   "outputs": [],
   "source": [
    "model = Sequential([\n",
    "    Dense(units=8, input_shape=(16, ), activation='relu'),\n",
    "    Dense(units=16, activation='relu'),\n",
    "    Dense(units=2, activation='softmax')\n",
    "])"
   ]
  },
  {
   "cell_type": "code",
   "execution_count": 81,
   "id": "offshore-preview",
   "metadata": {},
   "outputs": [],
   "source": [
    "model.compile(optimizer=Adam(learning_rate=0.0001), loss='sparse_categorical_crossentropy', metrics=['accuracy'])"
   ]
  },
  {
   "cell_type": "code",
   "execution_count": 82,
   "id": "settled-belgium",
   "metadata": {},
   "outputs": [
    {
     "name": "stdout",
     "output_type": "stream",
     "text": [
      "Epoch 1/50\n",
      "15334/15334 - 5s - loss: 0.5364 - accuracy: 0.7365 - val_loss: 0.5014 - val_accuracy: 0.7548\n",
      "Epoch 2/50\n",
      "15334/15334 - 5s - loss: 0.4883 - accuracy: 0.7631 - val_loss: 0.4896 - val_accuracy: 0.7594\n",
      "Epoch 3/50\n",
      "15334/15334 - 5s - loss: 0.4814 - accuracy: 0.7669 - val_loss: 0.4865 - val_accuracy: 0.7629\n",
      "Epoch 4/50\n",
      "15334/15334 - 5s - loss: 0.4781 - accuracy: 0.7690 - val_loss: 0.4848 - val_accuracy: 0.7618\n",
      "Epoch 5/50\n",
      "15334/15334 - 5s - loss: 0.4761 - accuracy: 0.7702 - val_loss: 0.4811 - val_accuracy: 0.7666\n",
      "Epoch 6/50\n",
      "15334/15334 - 5s - loss: 0.4746 - accuracy: 0.7706 - val_loss: 0.4801 - val_accuracy: 0.7665\n",
      "Epoch 7/50\n",
      "15334/15334 - 5s - loss: 0.4734 - accuracy: 0.7714 - val_loss: 0.4789 - val_accuracy: 0.7684\n",
      "Epoch 8/50\n",
      "15334/15334 - 5s - loss: 0.4726 - accuracy: 0.7719 - val_loss: 0.4783 - val_accuracy: 0.7668\n",
      "Epoch 9/50\n",
      "15334/15334 - 5s - loss: 0.4717 - accuracy: 0.7722 - val_loss: 0.4796 - val_accuracy: 0.7648\n",
      "Epoch 10/50\n",
      "15334/15334 - 5s - loss: 0.4710 - accuracy: 0.7727 - val_loss: 0.4775 - val_accuracy: 0.7662\n",
      "Epoch 11/50\n",
      "15334/15334 - 5s - loss: 0.4704 - accuracy: 0.7730 - val_loss: 0.4769 - val_accuracy: 0.7700\n",
      "Epoch 12/50\n",
      "15334/15334 - 5s - loss: 0.4699 - accuracy: 0.7734 - val_loss: 0.4755 - val_accuracy: 0.7687\n",
      "Epoch 13/50\n",
      "15334/15334 - 5s - loss: 0.4693 - accuracy: 0.7734 - val_loss: 0.4749 - val_accuracy: 0.7693\n",
      "Epoch 14/50\n",
      "15334/15334 - 5s - loss: 0.4688 - accuracy: 0.7735 - val_loss: 0.4749 - val_accuracy: 0.7691\n",
      "Epoch 15/50\n",
      "15334/15334 - 5s - loss: 0.4683 - accuracy: 0.7740 - val_loss: 0.4745 - val_accuracy: 0.7686\n",
      "Epoch 16/50\n",
      "15334/15334 - 5s - loss: 0.4678 - accuracy: 0.7750 - val_loss: 0.4736 - val_accuracy: 0.7702\n",
      "Epoch 17/50\n",
      "15334/15334 - 5s - loss: 0.4672 - accuracy: 0.7746 - val_loss: 0.4735 - val_accuracy: 0.7705\n",
      "Epoch 18/50\n",
      "15334/15334 - 5s - loss: 0.4668 - accuracy: 0.7746 - val_loss: 0.4725 - val_accuracy: 0.7709\n",
      "Epoch 19/50\n",
      "15334/15334 - 5s - loss: 0.4662 - accuracy: 0.7754 - val_loss: 0.4724 - val_accuracy: 0.7722\n",
      "Epoch 20/50\n",
      "15334/15334 - 5s - loss: 0.4658 - accuracy: 0.7756 - val_loss: 0.4717 - val_accuracy: 0.7704\n",
      "Epoch 21/50\n",
      "15334/15334 - 5s - loss: 0.4653 - accuracy: 0.7760 - val_loss: 0.4727 - val_accuracy: 0.7683\n",
      "Epoch 22/50\n",
      "15334/15334 - 5s - loss: 0.4651 - accuracy: 0.7759 - val_loss: 0.4709 - val_accuracy: 0.7702\n",
      "Epoch 23/50\n",
      "15334/15334 - 5s - loss: 0.4646 - accuracy: 0.7764 - val_loss: 0.4722 - val_accuracy: 0.7745\n",
      "Epoch 24/50\n",
      "15334/15334 - 5s - loss: 0.4642 - accuracy: 0.7766 - val_loss: 0.4706 - val_accuracy: 0.7706\n",
      "Epoch 25/50\n",
      "15334/15334 - 5s - loss: 0.4637 - accuracy: 0.7771 - val_loss: 0.4692 - val_accuracy: 0.7724\n",
      "Epoch 26/50\n",
      "15334/15334 - 5s - loss: 0.4636 - accuracy: 0.7770 - val_loss: 0.4689 - val_accuracy: 0.7722\n",
      "Epoch 27/50\n",
      "15334/15334 - 5s - loss: 0.4632 - accuracy: 0.7776 - val_loss: 0.4687 - val_accuracy: 0.7721\n",
      "Epoch 28/50\n",
      "15334/15334 - 5s - loss: 0.4629 - accuracy: 0.7776 - val_loss: 0.4684 - val_accuracy: 0.7729\n",
      "Epoch 29/50\n",
      "15334/15334 - 5s - loss: 0.4626 - accuracy: 0.7777 - val_loss: 0.4680 - val_accuracy: 0.7750\n",
      "Epoch 30/50\n",
      "15334/15334 - 5s - loss: 0.4624 - accuracy: 0.7780 - val_loss: 0.4710 - val_accuracy: 0.7697\n",
      "Epoch 31/50\n",
      "15334/15334 - 5s - loss: 0.4623 - accuracy: 0.7782 - val_loss: 0.4680 - val_accuracy: 0.7732\n",
      "Epoch 32/50\n",
      "15334/15334 - 5s - loss: 0.4618 - accuracy: 0.7782 - val_loss: 0.4672 - val_accuracy: 0.7750\n",
      "Epoch 33/50\n",
      "15334/15334 - 5s - loss: 0.4616 - accuracy: 0.7788 - val_loss: 0.4686 - val_accuracy: 0.7750\n",
      "Epoch 34/50\n",
      "15334/15334 - 5s - loss: 0.4614 - accuracy: 0.7788 - val_loss: 0.4668 - val_accuracy: 0.7760\n",
      "Epoch 35/50\n",
      "15334/15334 - 5s - loss: 0.4612 - accuracy: 0.7787 - val_loss: 0.4667 - val_accuracy: 0.7757\n",
      "Epoch 36/50\n",
      "15334/15334 - 5s - loss: 0.4608 - accuracy: 0.7791 - val_loss: 0.4699 - val_accuracy: 0.7746\n",
      "Epoch 37/50\n",
      "15334/15334 - 5s - loss: 0.4608 - accuracy: 0.7797 - val_loss: 0.4671 - val_accuracy: 0.7750\n",
      "Epoch 38/50\n",
      "15334/15334 - 5s - loss: 0.4605 - accuracy: 0.7794 - val_loss: 0.4663 - val_accuracy: 0.7763\n",
      "Epoch 39/50\n",
      "15334/15334 - 5s - loss: 0.4603 - accuracy: 0.7797 - val_loss: 0.4658 - val_accuracy: 0.7765\n",
      "Epoch 40/50\n",
      "15334/15334 - 5s - loss: 0.4601 - accuracy: 0.7789 - val_loss: 0.4656 - val_accuracy: 0.7766\n",
      "Epoch 41/50\n",
      "15334/15334 - 5s - loss: 0.4598 - accuracy: 0.7802 - val_loss: 0.4658 - val_accuracy: 0.7772\n",
      "Epoch 42/50\n",
      "15334/15334 - 5s - loss: 0.4598 - accuracy: 0.7800 - val_loss: 0.4677 - val_accuracy: 0.7767\n",
      "Epoch 43/50\n",
      "15334/15334 - 5s - loss: 0.4598 - accuracy: 0.7797 - val_loss: 0.4652 - val_accuracy: 0.7777\n",
      "Epoch 44/50\n",
      "15334/15334 - 5s - loss: 0.4595 - accuracy: 0.7801 - val_loss: 0.4656 - val_accuracy: 0.7767\n",
      "Epoch 45/50\n",
      "15334/15334 - 5s - loss: 0.4594 - accuracy: 0.7797 - val_loss: 0.4647 - val_accuracy: 0.7769\n",
      "Epoch 46/50\n",
      "15334/15334 - 5s - loss: 0.4593 - accuracy: 0.7799 - val_loss: 0.4650 - val_accuracy: 0.7771\n",
      "Epoch 47/50\n",
      "15334/15334 - 5s - loss: 0.4591 - accuracy: 0.7800 - val_loss: 0.4645 - val_accuracy: 0.7771\n",
      "Epoch 48/50\n",
      "15334/15334 - 5s - loss: 0.4589 - accuracy: 0.7805 - val_loss: 0.4645 - val_accuracy: 0.7778\n",
      "Epoch 49/50\n",
      "15334/15334 - 5s - loss: 0.4590 - accuracy: 0.7803 - val_loss: 0.4653 - val_accuracy: 0.7758\n",
      "Epoch 50/50\n",
      "15334/15334 - 5s - loss: 0.4588 - accuracy: 0.7806 - val_loss: 0.4643 - val_accuracy: 0.7773\n"
     ]
    },
    {
     "data": {
      "text/plain": [
       "<tensorflow.python.keras.callbacks.History at 0x7f7174416730>"
      ]
     },
     "execution_count": 82,
     "metadata": {},
     "output_type": "execute_result"
    }
   ],
   "source": [
    "model.fit(x=X_train, y=Y_train, validation_split=0.1, batch_size=10, epochs=50, verbose=2)"
   ]
  },
  {
   "cell_type": "code",
   "execution_count": 83,
   "id": "humanitarian-funds",
   "metadata": {},
   "outputs": [
    {
     "data": {
      "text/plain": [
       "array([[0.49971226, 0.5002877 ],\n",
       "       [0.2456565 , 0.75434357],\n",
       "       [0.45355138, 0.5464486 ],\n",
       "       ...,\n",
       "       [0.5861802 , 0.41381985],\n",
       "       [0.81790674, 0.18209319],\n",
       "       [0.90110636, 0.0988937 ]], dtype=float32)"
      ]
     },
     "execution_count": 83,
     "metadata": {},
     "output_type": "execute_result"
    }
   ],
   "source": [
    "predicted_values = model.predict(X_test)\n",
    "predicted_values"
   ]
  },
  {
   "cell_type": "code",
   "execution_count": 84,
   "id": "legendary-bronze",
   "metadata": {},
   "outputs": [
    {
     "data": {
      "text/plain": [
       "array([1, 1, 1, ..., 0, 0, 0])"
      ]
     },
     "execution_count": 84,
     "metadata": {},
     "output_type": "execute_result"
    }
   ],
   "source": [
    "predicted_values = np.argmax(predicted_values, axis=-1)\n",
    "predicted_values"
   ]
  },
  {
   "cell_type": "code",
   "execution_count": 85,
   "id": "taken-creek",
   "metadata": {},
   "outputs": [
    {
     "data": {
      "image/png": "[encoded data removed]",
      "text/plain": [
       "<Figure size 432x288 with 1 Axes>"
      ]
     },
     "metadata": {
      "needs_background": "light"
     },
     "output_type": "display_data"
    }
   ],
   "source": [
    "conf_mat = confusion_matrix(Y_test, predicted_values)\n",
    "conf_mat_df = pd.DataFrame(conf_mat, index=['No', 'Yes'], columns=['No', 'Yes'])\n",
    "cmap = sns.cubehelix_palette(light=1, as_cmap=True)\n",
    "h_map = sns.heatmap(conf_mat, cbar=False, annot=True, fmt='d')\n",
    "h_map.invert_xaxis()\n",
    "h_map.invert_yaxis()"
   ]
  },
  {
   "cell_type": "code",
   "execution_count": 86,
   "id": "hydraulic-driving",
   "metadata": {},
   "outputs": [
    {
     "name": "stdout",
     "output_type": "stream",
     "text": [
      "              precision    recall  f1-score   support\n",
      "\n",
      "           0       0.78      0.80      0.79     28637\n",
      "           1       0.79      0.77      0.78     28155\n",
      "\n",
      "    accuracy                           0.78     56792\n",
      "   macro avg       0.78      0.78      0.78     56792\n",
      "weighted avg       0.78      0.78      0.78     56792\n",
      "\n"
     ]
    }
   ],
   "source": [
    "class_report = classification_report(Y_test, predicted_values)\n",
    "print(class_report)"
   ]
  },
  {
   "cell_type": "code",
   "execution_count": 87,
   "id": "placed-flower",
   "metadata": {},
   "outputs": [
    {
     "data": {
      "text/plain": [
       "0.7828039160445133"
      ]
     },
     "execution_count": 87,
     "metadata": {},
     "output_type": "execute_result"
    }
   ],
   "source": [
    "accuracy = accuracy_score(Y_test, predicted_values)\n",
    "accuracy"
   ]
  },
  {
   "cell_type": "markdown",
   "id": "narrative-european",
   "metadata": {},
   "source": [
    "### Mapirati vrednosti kategoričkih atributa u numeričke vrednosti"
   ]
  },
  {
   "cell_type": "code",
   "execution_count": 46,
   "id": "dutch-strengthening",
   "metadata": {},
   "outputs": [
    {
     "data": {
      "text/html": [
       "<div>\n",
       "<style scoped>\n",
       "    .dataframe tbody tr th:only-of-type {\n",
       "        vertical-align: middle;\n",
       "    }\n",
       "\n",
       "    .dataframe tbody tr th {\n",
       "        vertical-align: top;\n",
       "    }\n",
       "\n",
       "    .dataframe thead th {\n",
       "        text-align: right;\n",
       "    }\n",
       "</style>\n",
       "<table border=\"1\" class=\"dataframe\">\n",
       "  <thead>\n",
       "    <tr style=\"text-align: right;\">\n",
       "      <th></th>\n",
       "      <th>Date_2007-11-01</th>\n",
       "      <th>Date_2007-11-02</th>\n",
       "      <th>Date_2007-11-03</th>\n",
       "      <th>Date_2007-11-04</th>\n",
       "      <th>Date_2007-11-05</th>\n",
       "      <th>Date_2007-11-06</th>\n",
       "      <th>Date_2007-11-07</th>\n",
       "      <th>Date_2007-11-08</th>\n",
       "      <th>Date_2007-11-09</th>\n",
       "      <th>Date_2007-11-10</th>\n",
       "      <th>...</th>\n",
       "      <th>WindDir3pm_S</th>\n",
       "      <th>WindDir3pm_SE</th>\n",
       "      <th>WindDir3pm_SSE</th>\n",
       "      <th>WindDir3pm_SSW</th>\n",
       "      <th>WindDir3pm_SW</th>\n",
       "      <th>WindDir3pm_W</th>\n",
       "      <th>WindDir3pm_WNW</th>\n",
       "      <th>WindDir3pm_WSW</th>\n",
       "      <th>RainToday_No</th>\n",
       "      <th>RainToday_Yes</th>\n",
       "    </tr>\n",
       "  </thead>\n",
       "  <tbody>\n",
       "    <tr>\n",
       "      <th>0</th>\n",
       "      <td>0</td>\n",
       "      <td>0</td>\n",
       "      <td>0</td>\n",
       "      <td>0</td>\n",
       "      <td>0</td>\n",
       "      <td>0</td>\n",
       "      <td>0</td>\n",
       "      <td>0</td>\n",
       "      <td>0</td>\n",
       "      <td>0</td>\n",
       "      <td>...</td>\n",
       "      <td>0</td>\n",
       "      <td>0</td>\n",
       "      <td>0</td>\n",
       "      <td>0</td>\n",
       "      <td>0</td>\n",
       "      <td>0</td>\n",
       "      <td>1</td>\n",
       "      <td>0</td>\n",
       "      <td>1</td>\n",
       "      <td>0</td>\n",
       "    </tr>\n",
       "    <tr>\n",
       "      <th>1</th>\n",
       "      <td>0</td>\n",
       "      <td>0</td>\n",
       "      <td>0</td>\n",
       "      <td>0</td>\n",
       "      <td>0</td>\n",
       "      <td>0</td>\n",
       "      <td>0</td>\n",
       "      <td>0</td>\n",
       "      <td>0</td>\n",
       "      <td>0</td>\n",
       "      <td>...</td>\n",
       "      <td>0</td>\n",
       "      <td>0</td>\n",
       "      <td>0</td>\n",
       "      <td>0</td>\n",
       "      <td>0</td>\n",
       "      <td>0</td>\n",
       "      <td>0</td>\n",
       "      <td>1</td>\n",
       "      <td>1</td>\n",
       "      <td>0</td>\n",
       "    </tr>\n",
       "    <tr>\n",
       "      <th>2</th>\n",
       "      <td>0</td>\n",
       "      <td>0</td>\n",
       "      <td>0</td>\n",
       "      <td>0</td>\n",
       "      <td>0</td>\n",
       "      <td>0</td>\n",
       "      <td>0</td>\n",
       "      <td>0</td>\n",
       "      <td>0</td>\n",
       "      <td>0</td>\n",
       "      <td>...</td>\n",
       "      <td>0</td>\n",
       "      <td>0</td>\n",
       "      <td>0</td>\n",
       "      <td>0</td>\n",
       "      <td>0</td>\n",
       "      <td>0</td>\n",
       "      <td>0</td>\n",
       "      <td>1</td>\n",
       "      <td>1</td>\n",
       "      <td>0</td>\n",
       "    </tr>\n",
       "    <tr>\n",
       "      <th>3</th>\n",
       "      <td>0</td>\n",
       "      <td>0</td>\n",
       "      <td>0</td>\n",
       "      <td>0</td>\n",
       "      <td>0</td>\n",
       "      <td>0</td>\n",
       "      <td>0</td>\n",
       "      <td>0</td>\n",
       "      <td>0</td>\n",
       "      <td>0</td>\n",
       "      <td>...</td>\n",
       "      <td>0</td>\n",
       "      <td>0</td>\n",
       "      <td>0</td>\n",
       "      <td>0</td>\n",
       "      <td>0</td>\n",
       "      <td>0</td>\n",
       "      <td>0</td>\n",
       "      <td>0</td>\n",
       "      <td>1</td>\n",
       "      <td>0</td>\n",
       "    </tr>\n",
       "    <tr>\n",
       "      <th>4</th>\n",
       "      <td>0</td>\n",
       "      <td>0</td>\n",
       "      <td>0</td>\n",
       "      <td>0</td>\n",
       "      <td>0</td>\n",
       "      <td>0</td>\n",
       "      <td>0</td>\n",
       "      <td>0</td>\n",
       "      <td>0</td>\n",
       "      <td>0</td>\n",
       "      <td>...</td>\n",
       "      <td>0</td>\n",
       "      <td>0</td>\n",
       "      <td>0</td>\n",
       "      <td>0</td>\n",
       "      <td>0</td>\n",
       "      <td>0</td>\n",
       "      <td>0</td>\n",
       "      <td>0</td>\n",
       "      <td>1</td>\n",
       "      <td>0</td>\n",
       "    </tr>\n",
       "    <tr>\n",
       "      <th>...</th>\n",
       "      <td>...</td>\n",
       "      <td>...</td>\n",
       "      <td>...</td>\n",
       "      <td>...</td>\n",
       "      <td>...</td>\n",
       "      <td>...</td>\n",
       "      <td>...</td>\n",
       "      <td>...</td>\n",
       "      <td>...</td>\n",
       "      <td>...</td>\n",
       "      <td>...</td>\n",
       "      <td>...</td>\n",
       "      <td>...</td>\n",
       "      <td>...</td>\n",
       "      <td>...</td>\n",
       "      <td>...</td>\n",
       "      <td>...</td>\n",
       "      <td>...</td>\n",
       "      <td>...</td>\n",
       "      <td>...</td>\n",
       "      <td>...</td>\n",
       "    </tr>\n",
       "    <tr>\n",
       "      <th>227161</th>\n",
       "      <td>0</td>\n",
       "      <td>0</td>\n",
       "      <td>0</td>\n",
       "      <td>0</td>\n",
       "      <td>0</td>\n",
       "      <td>0</td>\n",
       "      <td>0</td>\n",
       "      <td>0</td>\n",
       "      <td>0</td>\n",
       "      <td>0</td>\n",
       "      <td>...</td>\n",
       "      <td>0</td>\n",
       "      <td>0</td>\n",
       "      <td>1</td>\n",
       "      <td>0</td>\n",
       "      <td>0</td>\n",
       "      <td>0</td>\n",
       "      <td>0</td>\n",
       "      <td>0</td>\n",
       "      <td>1</td>\n",
       "      <td>0</td>\n",
       "    </tr>\n",
       "    <tr>\n",
       "      <th>227162</th>\n",
       "      <td>0</td>\n",
       "      <td>0</td>\n",
       "      <td>0</td>\n",
       "      <td>0</td>\n",
       "      <td>0</td>\n",
       "      <td>0</td>\n",
       "      <td>0</td>\n",
       "      <td>0</td>\n",
       "      <td>0</td>\n",
       "      <td>0</td>\n",
       "      <td>...</td>\n",
       "      <td>0</td>\n",
       "      <td>0</td>\n",
       "      <td>0</td>\n",
       "      <td>0</td>\n",
       "      <td>0</td>\n",
       "      <td>0</td>\n",
       "      <td>0</td>\n",
       "      <td>0</td>\n",
       "      <td>1</td>\n",
       "      <td>0</td>\n",
       "    </tr>\n",
       "    <tr>\n",
       "      <th>227163</th>\n",
       "      <td>0</td>\n",
       "      <td>0</td>\n",
       "      <td>0</td>\n",
       "      <td>0</td>\n",
       "      <td>0</td>\n",
       "      <td>0</td>\n",
       "      <td>0</td>\n",
       "      <td>0</td>\n",
       "      <td>0</td>\n",
       "      <td>0</td>\n",
       "      <td>...</td>\n",
       "      <td>0</td>\n",
       "      <td>0</td>\n",
       "      <td>0</td>\n",
       "      <td>0</td>\n",
       "      <td>0</td>\n",
       "      <td>0</td>\n",
       "      <td>0</td>\n",
       "      <td>0</td>\n",
       "      <td>1</td>\n",
       "      <td>0</td>\n",
       "    </tr>\n",
       "    <tr>\n",
       "      <th>227164</th>\n",
       "      <td>0</td>\n",
       "      <td>0</td>\n",
       "      <td>0</td>\n",
       "      <td>0</td>\n",
       "      <td>0</td>\n",
       "      <td>0</td>\n",
       "      <td>0</td>\n",
       "      <td>0</td>\n",
       "      <td>0</td>\n",
       "      <td>0</td>\n",
       "      <td>...</td>\n",
       "      <td>0</td>\n",
       "      <td>0</td>\n",
       "      <td>0</td>\n",
       "      <td>0</td>\n",
       "      <td>0</td>\n",
       "      <td>0</td>\n",
       "      <td>0</td>\n",
       "      <td>0</td>\n",
       "      <td>0</td>\n",
       "      <td>1</td>\n",
       "    </tr>\n",
       "    <tr>\n",
       "      <th>227165</th>\n",
       "      <td>0</td>\n",
       "      <td>0</td>\n",
       "      <td>0</td>\n",
       "      <td>0</td>\n",
       "      <td>0</td>\n",
       "      <td>0</td>\n",
       "      <td>0</td>\n",
       "      <td>0</td>\n",
       "      <td>0</td>\n",
       "      <td>0</td>\n",
       "      <td>...</td>\n",
       "      <td>0</td>\n",
       "      <td>0</td>\n",
       "      <td>0</td>\n",
       "      <td>0</td>\n",
       "      <td>0</td>\n",
       "      <td>0</td>\n",
       "      <td>0</td>\n",
       "      <td>0</td>\n",
       "      <td>0</td>\n",
       "      <td>1</td>\n",
       "    </tr>\n",
       "  </tbody>\n",
       "</table>\n",
       "<p>227166 rows × 3535 columns</p>\n",
       "</div>"
      ],
      "text/plain": [
       "        Date_2007-11-01  Date_2007-11-02  Date_2007-11-03  Date_2007-11-04  \\\n",
       "0                     0                0                0                0   \n",
       "1                     0                0                0                0   \n",
       "2                     0                0                0                0   \n",
       "3                     0                0                0                0   \n",
       "4                     0                0                0                0   \n",
       "...                 ...              ...              ...              ...   \n",
       "227161                0                0                0                0   \n",
       "227162                0                0                0                0   \n",
       "227163                0                0                0                0   \n",
       "227164                0                0                0                0   \n",
       "227165                0                0                0                0   \n",
       "\n",
       "        Date_2007-11-05  Date_2007-11-06  Date_2007-11-07  Date_2007-11-08  \\\n",
       "0                     0                0                0                0   \n",
       "1                     0                0                0                0   \n",
       "2                     0                0                0                0   \n",
       "3                     0                0                0                0   \n",
       "4                     0                0                0                0   \n",
       "...                 ...              ...              ...              ...   \n",
       "227161                0                0                0                0   \n",
       "227162                0                0                0                0   \n",
       "227163                0                0                0                0   \n",
       "227164                0                0                0                0   \n",
       "227165                0                0                0                0   \n",
       "\n",
       "        Date_2007-11-09  Date_2007-11-10  ...  WindDir3pm_S  WindDir3pm_SE  \\\n",
       "0                     0                0  ...             0              0   \n",
       "1                     0                0  ...             0              0   \n",
       "2                     0                0  ...             0              0   \n",
       "3                     0                0  ...             0              0   \n",
       "4                     0                0  ...             0              0   \n",
       "...                 ...              ...  ...           ...            ...   \n",
       "227161                0                0  ...             0              0   \n",
       "227162                0                0  ...             0              0   \n",
       "227163                0                0  ...             0              0   \n",
       "227164                0                0  ...             0              0   \n",
       "227165                0                0  ...             0              0   \n",
       "\n",
       "        WindDir3pm_SSE  WindDir3pm_SSW  WindDir3pm_SW  WindDir3pm_W  \\\n",
       "0                    0               0              0             0   \n",
       "1                    0               0              0             0   \n",
       "2                    0               0              0             0   \n",
       "3                    0               0              0             0   \n",
       "4                    0               0              0             0   \n",
       "...                ...             ...            ...           ...   \n",
       "227161               1               0              0             0   \n",
       "227162               0               0              0             0   \n",
       "227163               0               0              0             0   \n",
       "227164               0               0              0             0   \n",
       "227165               0               0              0             0   \n",
       "\n",
       "        WindDir3pm_WNW  WindDir3pm_WSW  RainToday_No  RainToday_Yes  \n",
       "0                    1               0             1              0  \n",
       "1                    0               1             1              0  \n",
       "2                    0               1             1              0  \n",
       "3                    0               0             1              0  \n",
       "4                    0               0             1              0  \n",
       "...                ...             ...           ...            ...  \n",
       "227161               0               0             1              0  \n",
       "227162               0               0             1              0  \n",
       "227163               0               0             1              0  \n",
       "227164               0               0             0              1  \n",
       "227165               0               0             0              1  \n",
       "\n",
       "[227166 rows x 3535 columns]"
      ]
     },
     "execution_count": 46,
     "metadata": {},
     "output_type": "execute_result"
    }
   ],
   "source": [
    "dummy = pd.get_dummies(df_balanced[categorical].drop('RainTomorrow', axis=1))\n",
    "dummy"
   ]
  },
  {
   "cell_type": "code",
   "execution_count": 47,
   "id": "micro-lounge",
   "metadata": {},
   "outputs": [],
   "source": [
    "df_balanced_dummy_encoded = pd.concat([df_balanced[numerical], dummy], axis=1, join='inner')\n",
    "df_balanced_dummy_encoded['RainTomorrow'] = df_balanced['RainTomorrow']"
   ]
  },
  {
   "cell_type": "code",
   "execution_count": 48,
   "id": "polished-rates",
   "metadata": {},
   "outputs": [
    {
     "data": {
      "text/plain": [
       "0         0\n",
       "1         0\n",
       "2         0\n",
       "3         0\n",
       "4         0\n",
       "         ..\n",
       "227161    1\n",
       "227162    1\n",
       "227163    1\n",
       "227164    1\n",
       "227165    1\n",
       "Name: RainTomorrow, Length: 227166, dtype: int64"
      ]
     },
     "execution_count": 48,
     "metadata": {},
     "output_type": "execute_result"
    }
   ],
   "source": [
    "df_balanced_dummy_encoded['RainTomorrow']"
   ]
  },
  {
   "cell_type": "code",
   "execution_count": 94,
   "id": "composed-commerce",
   "metadata": {},
   "outputs": [
    {
     "data": {
      "text/plain": [
       "Index(['MinTemp', 'MaxTemp', 'Rainfall', 'Evaporation', 'Sunshine',\n",
       "       'WindGustSpeed', 'WindSpeed9am', 'WindSpeed3pm', 'Humidity9am',\n",
       "       'Humidity3pm',\n",
       "       ...\n",
       "       'WindDir3pm_SE', 'WindDir3pm_SSE', 'WindDir3pm_SSW', 'WindDir3pm_SW',\n",
       "       'WindDir3pm_W', 'WindDir3pm_WNW', 'WindDir3pm_WSW', 'RainToday_No',\n",
       "       'RainToday_Yes', 'RainTomorrow'],\n",
       "      dtype='object', length=3552)"
      ]
     },
     "execution_count": 94,
     "metadata": {},
     "output_type": "execute_result"
    }
   ],
   "source": [
    "df_balanced_dummy_encoded.columns"
   ]
  },
  {
   "cell_type": "code",
   "execution_count": 49,
   "id": "beneficial-speed",
   "metadata": {},
   "outputs": [
    {
     "data": {
      "text/plain": [
       "[]"
      ]
     },
     "execution_count": 49,
     "metadata": {},
     "output_type": "execute_result"
    }
   ],
   "source": [
    "# Konvertovati sve kolone u 'float64' tip\n",
    "\n",
    "# features = list(df_balanced_dummy_encoded.columns.values)\n",
    "# features.remove('RainTomorrow')\n",
    "\n",
    "# for feature in features:\n",
    "#     df_balanced_dummy_encoded[feature] = df_balanced_dummy_encoded[feature].astype('float64')\n",
    "\n",
    "# df_balanced_dummy_encoded['WindDir3pm_SSE'].dtype\n",
    "non_numeric = []\n",
    "for feature in df_balanced_dummy_encoded.columns:\n",
    "    if df_balanced_dummy_encoded[feature].dtype == 'object':\n",
    "        non_numeric.append(feature)\n",
    "        \n",
    "non_numeric"
   ]
  },
  {
   "cell_type": "code",
   "execution_count": null,
   "id": "adaptive-vietnamese",
   "metadata": {},
   "outputs": [],
   "source": [
    "# if 'RainTomorrow' in df_balanced_dummy_encoded.columns:\n",
    "#     print('Ima')"
   ]
  },
  {
   "cell_type": "code",
   "execution_count": null,
   "id": "excellent-nowhere",
   "metadata": {},
   "outputs": [],
   "source": [
    "# i = 0\n",
    "# for feature in df_balanced_dummy_encoded.columns:\n",
    "#     if df_balanced_dummy_encoded[feature].dtype == 'float64':\n",
    "#         i += 1\n",
    "        \n",
    "# i"
   ]
  },
  {
   "cell_type": "code",
   "execution_count": null,
   "id": "iraqi-railway",
   "metadata": {},
   "outputs": [],
   "source": [
    "# len(df_balanced_dummy_encoded.columns)\n",
    "# df_balanced['RainTomorrow'] = df_balanced['RainTomorrow'].astype('int32')"
   ]
  },
  {
   "cell_type": "code",
   "execution_count": 96,
   "id": "blocked-bloom",
   "metadata": {},
   "outputs": [
    {
     "data": {
      "text/plain": [
       "dtype('int64')"
      ]
     },
     "execution_count": 96,
     "metadata": {},
     "output_type": "execute_result"
    }
   ],
   "source": [
    "df_balanced['RainTomorrow'].dtype"
   ]
  },
  {
   "cell_type": "code",
   "execution_count": 50,
   "id": "dramatic-mission",
   "metadata": {},
   "outputs": [],
   "source": [
    "X_train, X_test, Y_train, Y_test = train_test_split(df_balanced_dummy_encoded.drop('RainTomorrow', axis=1), df_balanced_dummy_encoded['RainTomorrow'])"
   ]
  },
  {
   "cell_type": "code",
   "execution_count": 51,
   "id": "adjusted-registration",
   "metadata": {},
   "outputs": [],
   "source": [
    "X_train, Y_train = shuffle(X_train, Y_train)"
   ]
  },
  {
   "cell_type": "code",
   "execution_count": 99,
   "id": "current-palace",
   "metadata": {},
   "outputs": [
    {
     "data": {
      "text/plain": [
       "(170374, 3551)"
      ]
     },
     "execution_count": 99,
     "metadata": {},
     "output_type": "execute_result"
    }
   ],
   "source": [
    "X_train.shape"
   ]
  },
  {
   "cell_type": "code",
   "execution_count": 100,
   "id": "seventh-georgia",
   "metadata": {},
   "outputs": [],
   "source": [
    "model = Sequential([\n",
    "    Dense(units=8, input_shape=(3551, ), activation='relu'),\n",
    "    Dense(units=2, activation='softmax')\n",
    "])"
   ]
  },
  {
   "cell_type": "code",
   "execution_count": 101,
   "id": "bigger-phoenix",
   "metadata": {},
   "outputs": [],
   "source": [
    "model.compile(optimizer=Adam(learning_rate=0.0001), loss='sparse_categorical_crossentropy', metrics=['accuracy'])"
   ]
  },
  {
   "cell_type": "code",
   "execution_count": 102,
   "id": "alleged-twenty",
   "metadata": {},
   "outputs": [
    {
     "name": "stdout",
     "output_type": "stream",
     "text": [
      "Epoch 1/50\n",
      "15334/15334 - 9s - loss: 0.5143 - accuracy: 0.7525 - val_loss: 0.4579 - val_accuracy: 0.7825\n",
      "Epoch 2/50\n",
      "15334/15334 - 8s - loss: 0.4407 - accuracy: 0.7966 - val_loss: 0.4325 - val_accuracy: 0.7966\n",
      "Epoch 3/50\n",
      "15334/15334 - 8s - loss: 0.4208 - accuracy: 0.8079 - val_loss: 0.4223 - val_accuracy: 0.8014\n",
      "Epoch 4/50\n",
      "15334/15334 - 8s - loss: 0.4109 - accuracy: 0.8134 - val_loss: 0.4185 - val_accuracy: 0.8034\n",
      "Epoch 5/50\n",
      "15334/15334 - 8s - loss: 0.4053 - accuracy: 0.8161 - val_loss: 0.4164 - val_accuracy: 0.8069\n",
      "Epoch 6/50\n",
      "15334/15334 - 8s - loss: 0.4015 - accuracy: 0.8190 - val_loss: 0.4137 - val_accuracy: 0.8099\n",
      "Epoch 7/50\n",
      "15334/15334 - 8s - loss: 0.3985 - accuracy: 0.8208 - val_loss: 0.4123 - val_accuracy: 0.8115\n",
      "Epoch 8/50\n",
      "15334/15334 - 8s - loss: 0.3950 - accuracy: 0.8232 - val_loss: 0.4091 - val_accuracy: 0.8124\n",
      "Epoch 9/50\n",
      "15334/15334 - 8s - loss: 0.3914 - accuracy: 0.8247 - val_loss: 0.4069 - val_accuracy: 0.8136\n",
      "Epoch 10/50\n",
      "15334/15334 - 8s - loss: 0.3875 - accuracy: 0.8264 - val_loss: 0.4045 - val_accuracy: 0.8139\n",
      "Epoch 11/50\n",
      "15334/15334 - 8s - loss: 0.3831 - accuracy: 0.8290 - val_loss: 0.4009 - val_accuracy: 0.8160\n",
      "Epoch 12/50\n",
      "15334/15334 - 8s - loss: 0.3786 - accuracy: 0.8299 - val_loss: 0.3980 - val_accuracy: 0.8178\n",
      "Epoch 13/50\n",
      "15334/15334 - 8s - loss: 0.3740 - accuracy: 0.8328 - val_loss: 0.3949 - val_accuracy: 0.8196\n",
      "Epoch 14/50\n",
      "15334/15334 - 8s - loss: 0.3692 - accuracy: 0.8352 - val_loss: 0.3921 - val_accuracy: 0.8209\n",
      "Epoch 15/50\n",
      "15334/15334 - 8s - loss: 0.3646 - accuracy: 0.8381 - val_loss: 0.3888 - val_accuracy: 0.8242\n",
      "Epoch 16/50\n",
      "15334/15334 - 8s - loss: 0.3598 - accuracy: 0.8407 - val_loss: 0.3857 - val_accuracy: 0.8266\n",
      "Epoch 17/50\n",
      "15334/15334 - 8s - loss: 0.3547 - accuracy: 0.8433 - val_loss: 0.3824 - val_accuracy: 0.8286\n",
      "Epoch 18/50\n",
      "15334/15334 - 8s - loss: 0.3496 - accuracy: 0.8460 - val_loss: 0.3786 - val_accuracy: 0.8321\n",
      "Epoch 19/50\n",
      "15334/15334 - 8s - loss: 0.3445 - accuracy: 0.8489 - val_loss: 0.3753 - val_accuracy: 0.8334\n",
      "Epoch 20/50\n",
      "15334/15334 - 8s - loss: 0.3397 - accuracy: 0.8511 - val_loss: 0.3729 - val_accuracy: 0.8351\n",
      "Epoch 21/50\n",
      "15334/15334 - 8s - loss: 0.3351 - accuracy: 0.8540 - val_loss: 0.3703 - val_accuracy: 0.8363\n",
      "Epoch 22/50\n",
      "15334/15334 - 8s - loss: 0.3307 - accuracy: 0.8568 - val_loss: 0.3676 - val_accuracy: 0.8392\n",
      "Epoch 23/50\n",
      "15334/15334 - 8s - loss: 0.3265 - accuracy: 0.8583 - val_loss: 0.3651 - val_accuracy: 0.8393\n",
      "Epoch 24/50\n",
      "15334/15334 - 8s - loss: 0.3225 - accuracy: 0.8610 - val_loss: 0.3618 - val_accuracy: 0.8421\n",
      "Epoch 25/50\n",
      "15334/15334 - 8s - loss: 0.3188 - accuracy: 0.8631 - val_loss: 0.3604 - val_accuracy: 0.8429\n",
      "Epoch 26/50\n",
      "15334/15334 - 8s - loss: 0.3154 - accuracy: 0.8646 - val_loss: 0.3590 - val_accuracy: 0.8427\n",
      "Epoch 27/50\n",
      "15334/15334 - 8s - loss: 0.3121 - accuracy: 0.8663 - val_loss: 0.3575 - val_accuracy: 0.8442\n",
      "Epoch 28/50\n",
      "15334/15334 - 8s - loss: 0.3090 - accuracy: 0.8675 - val_loss: 0.3559 - val_accuracy: 0.8459\n",
      "Epoch 29/50\n",
      "15334/15334 - 8s - loss: 0.3061 - accuracy: 0.8691 - val_loss: 0.3551 - val_accuracy: 0.8454\n",
      "Epoch 30/50\n",
      "15334/15334 - 8s - loss: 0.3031 - accuracy: 0.8706 - val_loss: 0.3534 - val_accuracy: 0.8459\n",
      "Epoch 31/50\n",
      "15334/15334 - 8s - loss: 0.3004 - accuracy: 0.8721 - val_loss: 0.3517 - val_accuracy: 0.8471\n",
      "Epoch 32/50\n",
      "15334/15334 - 8s - loss: 0.2978 - accuracy: 0.8737 - val_loss: 0.3502 - val_accuracy: 0.8492\n",
      "Epoch 33/50\n",
      "15334/15334 - 8s - loss: 0.2953 - accuracy: 0.8753 - val_loss: 0.3487 - val_accuracy: 0.8497\n",
      "Epoch 34/50\n",
      "15334/15334 - 8s - loss: 0.2928 - accuracy: 0.8767 - val_loss: 0.3475 - val_accuracy: 0.8513\n",
      "Epoch 35/50\n",
      "15334/15334 - 8s - loss: 0.2904 - accuracy: 0.8778 - val_loss: 0.3466 - val_accuracy: 0.8512\n",
      "Epoch 36/50\n",
      "15334/15334 - 8s - loss: 0.2881 - accuracy: 0.8791 - val_loss: 0.3455 - val_accuracy: 0.8537\n",
      "Epoch 37/50\n",
      "15334/15334 - 8s - loss: 0.2860 - accuracy: 0.8806 - val_loss: 0.3466 - val_accuracy: 0.8529\n",
      "Epoch 38/50\n",
      "15334/15334 - 8s - loss: 0.2839 - accuracy: 0.8816 - val_loss: 0.3441 - val_accuracy: 0.8551\n",
      "Epoch 39/50\n",
      "15334/15334 - 8s - loss: 0.2819 - accuracy: 0.8830 - val_loss: 0.3438 - val_accuracy: 0.8558\n",
      "Epoch 40/50\n",
      "15334/15334 - 8s - loss: 0.2800 - accuracy: 0.8846 - val_loss: 0.3440 - val_accuracy: 0.8550\n",
      "Epoch 41/50\n",
      "15334/15334 - 8s - loss: 0.2782 - accuracy: 0.8852 - val_loss: 0.3418 - val_accuracy: 0.8568\n",
      "Epoch 42/50\n",
      "15334/15334 - 8s - loss: 0.2764 - accuracy: 0.8859 - val_loss: 0.3418 - val_accuracy: 0.8571\n",
      "Epoch 43/50\n",
      "15334/15334 - 8s - loss: 0.2747 - accuracy: 0.8867 - val_loss: 0.3400 - val_accuracy: 0.8584\n",
      "Epoch 44/50\n",
      "15334/15334 - 8s - loss: 0.2730 - accuracy: 0.8876 - val_loss: 0.3399 - val_accuracy: 0.8586\n",
      "Epoch 45/50\n",
      "15334/15334 - 8s - loss: 0.2714 - accuracy: 0.8886 - val_loss: 0.3415 - val_accuracy: 0.8560\n",
      "Epoch 46/50\n",
      "15334/15334 - 8s - loss: 0.2700 - accuracy: 0.8895 - val_loss: 0.3389 - val_accuracy: 0.8579\n",
      "Epoch 47/50\n",
      "15334/15334 - 8s - loss: 0.2684 - accuracy: 0.8900 - val_loss: 0.3373 - val_accuracy: 0.8586\n",
      "Epoch 48/50\n",
      "15334/15334 - 8s - loss: 0.2671 - accuracy: 0.8904 - val_loss: 0.3381 - val_accuracy: 0.8581\n",
      "Epoch 49/50\n",
      "15334/15334 - 8s - loss: 0.2657 - accuracy: 0.8912 - val_loss: 0.3363 - val_accuracy: 0.8594\n",
      "Epoch 50/50\n",
      "15334/15334 - 8s - loss: 0.2644 - accuracy: 0.8922 - val_loss: 0.3375 - val_accuracy: 0.8591\n"
     ]
    },
    {
     "data": {
      "text/plain": [
       "<tensorflow.python.keras.callbacks.History at 0x7f71a2288670>"
      ]
     },
     "execution_count": 102,
     "metadata": {},
     "output_type": "execute_result"
    }
   ],
   "source": [
    "model.fit(x=X_train, y=Y_train, validation_split=0.1, batch_size=10, epochs=50, verbose=2)"
   ]
  },
  {
   "cell_type": "code",
   "execution_count": 56,
   "id": "instrumental-papua",
   "metadata": {},
   "outputs": [
    {
     "data": {
      "text/plain": [
       "array([[0.09704214, 0.9029578 ],\n",
       "       [0.90174335, 0.09825665],\n",
       "       [0.07454071, 0.92545927],\n",
       "       ...,\n",
       "       [0.78932756, 0.21067245],\n",
       "       [0.2821373 , 0.7178627 ],\n",
       "       [0.90244675, 0.09755329]], dtype=float32)"
      ]
     },
     "execution_count": 56,
     "metadata": {},
     "output_type": "execute_result"
    }
   ],
   "source": [
    "predicted_values = model.predict(X_test)\n",
    "predicted_values"
   ]
  },
  {
   "cell_type": "code",
   "execution_count": 57,
   "id": "crucial-tyler",
   "metadata": {},
   "outputs": [
    {
     "data": {
      "text/plain": [
       "array([1, 0, 1, ..., 0, 1, 0])"
      ]
     },
     "execution_count": 57,
     "metadata": {},
     "output_type": "execute_result"
    }
   ],
   "source": [
    "predicted_values = np.argmax(predicted_values, axis=-1)\n",
    "predicted_values"
   ]
  },
  {
   "cell_type": "code",
   "execution_count": 58,
   "id": "green-birth",
   "metadata": {},
   "outputs": [
    {
     "data": {
      "image/png": "[encoded data removed]",
      "text/plain": [
       "<Figure size 432x288 with 1 Axes>"
      ]
     },
     "metadata": {
      "needs_background": "light"
     },
     "output_type": "display_data"
    }
   ],
   "source": [
    "conf_mat = confusion_matrix(Y_test, predicted_values)\n",
    "conf_mat_df = pd.DataFrame(conf_mat, index=['No', 'Yes'], columns=['No', 'Yes'])\n",
    "cmap = sns.cubehelix_palette(light=1, as_cmap=True)\n",
    "h_map = sns.heatmap(conf_mat, cbar=False, annot=True, fmt='d')\n",
    "h_map.invert_xaxis()\n",
    "h_map.invert_yaxis()"
   ]
  },
  {
   "cell_type": "code",
   "execution_count": 59,
   "id": "parallel-investigator",
   "metadata": {},
   "outputs": [
    {
     "name": "stdout",
     "output_type": "stream",
     "text": [
      "              precision    recall  f1-score   support\n",
      "\n",
      "           0       0.86      0.82      0.84     28283\n",
      "           1       0.83      0.87      0.85     28509\n",
      "\n",
      "    accuracy                           0.85     56792\n",
      "   macro avg       0.85      0.85      0.85     56792\n",
      "weighted avg       0.85      0.85      0.85     56792\n",
      "\n"
     ]
    }
   ],
   "source": [
    "class_report = classification_report(Y_test, predicted_values)\n",
    "print(class_report)"
   ]
  },
  {
   "cell_type": "code",
   "execution_count": 60,
   "id": "outside-crossing",
   "metadata": {},
   "outputs": [
    {
     "data": {
      "text/plain": [
       "0.8457353148330751"
      ]
     },
     "execution_count": 60,
     "metadata": {},
     "output_type": "execute_result"
    }
   ],
   "source": [
    "accuracy = accuracy_score(Y_test, predicted_values)\n",
    "accuracy"
   ]
  },
  {
   "cell_type": "markdown",
   "id": "broke-salad",
   "metadata": {},
   "source": [
    "### Nakon dodavanja još jednog skrivenog sloja..."
   ]
  },
  {
   "cell_type": "code",
   "execution_count": 52,
   "id": "sudden-france",
   "metadata": {},
   "outputs": [],
   "source": [
    "model = Sequential([\n",
    "    Dense(units=8, input_shape=(3551, ), activation='relu'),\n",
    "    Dense(units=16, input_shape=(3551, ), activation='relu'),\n",
    "    Dense(units=2, activation='softmax')\n",
    "])"
   ]
  },
  {
   "cell_type": "code",
   "execution_count": 53,
   "id": "configured-howard",
   "metadata": {},
   "outputs": [],
   "source": [
    "model.compile(optimizer=Adam(learning_rate=0.0001), loss='sparse_categorical_crossentropy', metrics=['accuracy'])"
   ]
  },
  {
   "cell_type": "code",
   "execution_count": 54,
   "id": "expressed-school",
   "metadata": {},
   "outputs": [
    {
     "name": "stdout",
     "output_type": "stream",
     "text": [
      "Epoch 1/50\n",
      "15334/15334 - 9s - loss: 0.4876 - accuracy: 0.7683 - val_loss: 0.4382 - val_accuracy: 0.7967\n",
      "Epoch 2/50\n",
      "15334/15334 - 8s - loss: 0.4221 - accuracy: 0.8055 - val_loss: 0.4242 - val_accuracy: 0.8036\n",
      "Epoch 3/50\n",
      "15334/15334 - 8s - loss: 0.4116 - accuracy: 0.8121 - val_loss: 0.4220 - val_accuracy: 0.8053\n",
      "Epoch 4/50\n",
      "15334/15334 - 8s - loss: 0.4066 - accuracy: 0.8147 - val_loss: 0.4179 - val_accuracy: 0.8069\n",
      "Epoch 5/50\n",
      "15334/15334 - 8s - loss: 0.4020 - accuracy: 0.8184 - val_loss: 0.4165 - val_accuracy: 0.8081\n",
      "Epoch 6/50\n",
      "15334/15334 - 8s - loss: 0.3968 - accuracy: 0.8205 - val_loss: 0.4105 - val_accuracy: 0.8097\n",
      "Epoch 7/50\n",
      "15334/15334 - 8s - loss: 0.3904 - accuracy: 0.8233 - val_loss: 0.4063 - val_accuracy: 0.8112\n",
      "Epoch 8/50\n",
      "15334/15334 - 8s - loss: 0.3838 - accuracy: 0.8273 - val_loss: 0.4021 - val_accuracy: 0.8163\n",
      "Epoch 9/50\n",
      "15334/15334 - 8s - loss: 0.3770 - accuracy: 0.8306 - val_loss: 0.3975 - val_accuracy: 0.8182\n",
      "Epoch 10/50\n",
      "15334/15334 - 8s - loss: 0.3701 - accuracy: 0.8340 - val_loss: 0.3935 - val_accuracy: 0.8209\n",
      "Epoch 11/50\n",
      "15334/15334 - 8s - loss: 0.3630 - accuracy: 0.8379 - val_loss: 0.3895 - val_accuracy: 0.8242\n",
      "Epoch 12/50\n",
      "15334/15334 - 8s - loss: 0.3560 - accuracy: 0.8415 - val_loss: 0.3838 - val_accuracy: 0.8263\n",
      "Epoch 13/50\n",
      "15334/15334 - 8s - loss: 0.3491 - accuracy: 0.8452 - val_loss: 0.3816 - val_accuracy: 0.8276\n",
      "Epoch 14/50\n",
      "15334/15334 - 8s - loss: 0.3426 - accuracy: 0.8485 - val_loss: 0.3766 - val_accuracy: 0.8315\n",
      "Epoch 15/50\n",
      "15334/15334 - 8s - loss: 0.3361 - accuracy: 0.8522 - val_loss: 0.3733 - val_accuracy: 0.8330\n",
      "Epoch 16/50\n",
      "15334/15334 - 8s - loss: 0.3299 - accuracy: 0.8559 - val_loss: 0.3694 - val_accuracy: 0.8356\n",
      "Epoch 17/50\n",
      "15334/15334 - 8s - loss: 0.3241 - accuracy: 0.8592 - val_loss: 0.3686 - val_accuracy: 0.8362\n",
      "Epoch 18/50\n",
      "15334/15334 - 8s - loss: 0.3187 - accuracy: 0.8616 - val_loss: 0.3668 - val_accuracy: 0.8397\n",
      "Epoch 19/50\n",
      "15334/15334 - 8s - loss: 0.3134 - accuracy: 0.8643 - val_loss: 0.3612 - val_accuracy: 0.8405\n",
      "Epoch 20/50\n",
      "15334/15334 - 8s - loss: 0.3083 - accuracy: 0.8680 - val_loss: 0.3604 - val_accuracy: 0.8436\n",
      "Epoch 21/50\n",
      "15334/15334 - 8s - loss: 0.3032 - accuracy: 0.8706 - val_loss: 0.3557 - val_accuracy: 0.8462\n",
      "Epoch 22/50\n",
      "15334/15334 - 8s - loss: 0.2981 - accuracy: 0.8736 - val_loss: 0.3557 - val_accuracy: 0.8453\n",
      "Epoch 23/50\n",
      "15334/15334 - 8s - loss: 0.2931 - accuracy: 0.8771 - val_loss: 0.3506 - val_accuracy: 0.8502\n",
      "Epoch 24/50\n",
      "15334/15334 - 8s - loss: 0.2881 - accuracy: 0.8801 - val_loss: 0.3472 - val_accuracy: 0.8536\n",
      "Epoch 25/50\n",
      "15334/15334 - 8s - loss: 0.2832 - accuracy: 0.8825 - val_loss: 0.3444 - val_accuracy: 0.8560\n",
      "Epoch 26/50\n",
      "15334/15334 - 8s - loss: 0.2786 - accuracy: 0.8853 - val_loss: 0.3419 - val_accuracy: 0.8561\n",
      "Epoch 27/50\n",
      "15334/15334 - 8s - loss: 0.2742 - accuracy: 0.8873 - val_loss: 0.3402 - val_accuracy: 0.8570\n",
      "Epoch 28/50\n",
      "15334/15334 - 8s - loss: 0.2701 - accuracy: 0.8897 - val_loss: 0.3389 - val_accuracy: 0.8591\n",
      "Epoch 29/50\n",
      "15334/15334 - 8s - loss: 0.2665 - accuracy: 0.8919 - val_loss: 0.3364 - val_accuracy: 0.8610\n",
      "Epoch 30/50\n",
      "15334/15334 - 8s - loss: 0.2631 - accuracy: 0.8934 - val_loss: 0.3375 - val_accuracy: 0.8595\n",
      "Epoch 31/50\n",
      "15334/15334 - 8s - loss: 0.2599 - accuracy: 0.8950 - val_loss: 0.3342 - val_accuracy: 0.8620\n",
      "Epoch 32/50\n",
      "15334/15334 - 8s - loss: 0.2569 - accuracy: 0.8965 - val_loss: 0.3331 - val_accuracy: 0.8616\n",
      "Epoch 33/50\n",
      "15334/15334 - 8s - loss: 0.2542 - accuracy: 0.8976 - val_loss: 0.3334 - val_accuracy: 0.8621\n",
      "Epoch 34/50\n",
      "15334/15334 - 8s - loss: 0.2516 - accuracy: 0.8990 - val_loss: 0.3304 - val_accuracy: 0.8649\n",
      "Epoch 35/50\n",
      "15334/15334 - 8s - loss: 0.2494 - accuracy: 0.9002 - val_loss: 0.3287 - val_accuracy: 0.8647\n",
      "Epoch 36/50\n",
      "15334/15334 - 8s - loss: 0.2470 - accuracy: 0.9007 - val_loss: 0.3284 - val_accuracy: 0.8667\n",
      "Epoch 37/50\n",
      "15334/15334 - 8s - loss: 0.2448 - accuracy: 0.9028 - val_loss: 0.3308 - val_accuracy: 0.8661\n",
      "Epoch 38/50\n",
      "15334/15334 - 8s - loss: 0.2427 - accuracy: 0.9032 - val_loss: 0.3283 - val_accuracy: 0.8667\n",
      "Epoch 39/50\n",
      "15334/15334 - 8s - loss: 0.2410 - accuracy: 0.9046 - val_loss: 0.3277 - val_accuracy: 0.8679\n",
      "Epoch 40/50\n",
      "15334/15334 - 8s - loss: 0.2391 - accuracy: 0.9059 - val_loss: 0.3269 - val_accuracy: 0.8684\n",
      "Epoch 41/50\n",
      "15334/15334 - 8s - loss: 0.2371 - accuracy: 0.9064 - val_loss: 0.3273 - val_accuracy: 0.8687\n",
      "Epoch 42/50\n",
      "15334/15334 - 8s - loss: 0.2354 - accuracy: 0.9075 - val_loss: 0.3278 - val_accuracy: 0.8688\n",
      "Epoch 43/50\n",
      "15334/15334 - 8s - loss: 0.2339 - accuracy: 0.9077 - val_loss: 0.3253 - val_accuracy: 0.8684\n",
      "Epoch 44/50\n",
      "15334/15334 - 8s - loss: 0.2323 - accuracy: 0.9089 - val_loss: 0.3277 - val_accuracy: 0.8704\n",
      "Epoch 45/50\n",
      "15334/15334 - 8s - loss: 0.2310 - accuracy: 0.9097 - val_loss: 0.3272 - val_accuracy: 0.8709\n",
      "Epoch 46/50\n",
      "15334/15334 - 8s - loss: 0.2292 - accuracy: 0.9106 - val_loss: 0.3270 - val_accuracy: 0.8713\n",
      "Epoch 47/50\n",
      "15334/15334 - 8s - loss: 0.2279 - accuracy: 0.9110 - val_loss: 0.3254 - val_accuracy: 0.8712\n",
      "Epoch 48/50\n",
      "15334/15334 - 8s - loss: 0.2266 - accuracy: 0.9118 - val_loss: 0.3234 - val_accuracy: 0.8706\n",
      "Epoch 49/50\n",
      "15334/15334 - 8s - loss: 0.2251 - accuracy: 0.9121 - val_loss: 0.3249 - val_accuracy: 0.8713\n",
      "Epoch 50/50\n",
      "15334/15334 - 8s - loss: 0.2240 - accuracy: 0.9128 - val_loss: 0.3223 - val_accuracy: 0.8712\n"
     ]
    },
    {
     "data": {
      "text/plain": [
       "<tensorflow.python.keras.callbacks.History at 0x7f7e77b653a0>"
      ]
     },
     "execution_count": 54,
     "metadata": {},
     "output_type": "execute_result"
    }
   ],
   "source": [
    "model.fit(x=X_train, y=Y_train, validation_split=0.1, batch_size=10, epochs=50, verbose=2)"
   ]
  },
  {
   "cell_type": "code",
   "execution_count": 55,
   "id": "aware-swedish",
   "metadata": {},
   "outputs": [
    {
     "data": {
      "text/plain": [
       "array([[1.1022366e-01, 8.8977629e-01],\n",
       "       [9.9856263e-01, 1.4373836e-03],\n",
       "       [6.0849232e-03, 9.9391502e-01],\n",
       "       ...,\n",
       "       [3.0717766e-01, 6.9282234e-01],\n",
       "       [4.1073900e-01, 5.8926105e-01],\n",
       "       [9.9999261e-01, 7.4393292e-06]], dtype=float32)"
      ]
     },
     "execution_count": 55,
     "metadata": {},
     "output_type": "execute_result"
    }
   ],
   "source": [
    "predicted_values = model.predict(X_test)\n",
    "predicted_values"
   ]
  },
  {
   "cell_type": "code",
   "execution_count": 56,
   "id": "fifty-modem",
   "metadata": {},
   "outputs": [
    {
     "data": {
      "text/plain": [
       "array([1, 0, 1, ..., 1, 1, 0])"
      ]
     },
     "execution_count": 56,
     "metadata": {},
     "output_type": "execute_result"
    }
   ],
   "source": [
    "predicted_values = np.argmax(predicted_values, axis=-1)\n",
    "predicted_values"
   ]
  },
  {
   "cell_type": "code",
   "execution_count": 57,
   "id": "celtic-terrace",
   "metadata": {},
   "outputs": [
    {
     "data": {
      "image/png": "[encoded data removed]",
      "text/plain": [
       "<Figure size 432x288 with 1 Axes>"
      ]
     },
     "metadata": {
      "needs_background": "light"
     },
     "output_type": "display_data"
    }
   ],
   "source": [
    "conf_mat = confusion_matrix(Y_test, predicted_values)\n",
    "conf_mat_df = pd.DataFrame(conf_mat, index=['No', 'Yes'], columns=['No', 'Yes'])\n",
    "cmap = sns.cubehelix_palette(light=1, as_cmap=True)\n",
    "h_map = sns.heatmap(conf_mat, cbar=False, annot=True, fmt='d')\n",
    "h_map.invert_xaxis()\n",
    "h_map.invert_yaxis()"
   ]
  },
  {
   "cell_type": "code",
   "execution_count": 58,
   "id": "finite-arcade",
   "metadata": {},
   "outputs": [
    {
     "name": "stdout",
     "output_type": "stream",
     "text": [
      "              precision    recall  f1-score   support\n",
      "\n",
      "           0       0.89      0.85      0.87     28424\n",
      "           1       0.86      0.90      0.88     28368\n",
      "\n",
      "    accuracy                           0.87     56792\n",
      "   macro avg       0.88      0.87      0.87     56792\n",
      "weighted avg       0.88      0.87      0.87     56792\n",
      "\n"
     ]
    }
   ],
   "source": [
    "class_report = classification_report(Y_test, predicted_values)\n",
    "print(class_report)"
   ]
  },
  {
   "cell_type": "code",
   "execution_count": 59,
   "id": "unnecessary-concentrate",
   "metadata": {},
   "outputs": [
    {
     "data": {
      "text/plain": [
       "0.8744541484716157"
      ]
     },
     "execution_count": 59,
     "metadata": {},
     "output_type": "execute_result"
    }
   ],
   "source": [
    "accuracy = accuracy_score(Y_test, predicted_values)\n",
    "accuracy"
   ]
  }
 ],
 "metadata": {
  "kernelspec": {
   "display_name": "venv",
   "language": "python",
   "name": "venv"
  },
  "language_info": {
   "codemirror_mode": {
    "name": "ipython",
    "version": 3
   },
   "file_extension": ".py",
   "mimetype": "text/x-python",
   "name": "python",
   "nbconvert_exporter": "python",
   "pygments_lexer": "ipython3",
   "version": "3.8.7"
  }
 },
 "nbformat": 4,
 "nbformat_minor": 5
}
